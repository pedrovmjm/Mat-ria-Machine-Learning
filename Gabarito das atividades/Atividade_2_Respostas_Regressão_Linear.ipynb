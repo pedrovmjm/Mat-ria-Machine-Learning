{
  "nbformat": 4,
  "nbformat_minor": 0,
  "metadata": {
    "colab": {
      "name": "Atividade 2 - Respostas - Regressão Linear.ipynb",
      "provenance": [],
      "collapsed_sections": []
    },
    "kernelspec": {
      "name": "python3",
      "display_name": "Python 3"
    },
    "language_info": {
      "name": "python"
    }
  },
  "cells": [
    {
      "cell_type": "markdown",
      "source": [
        "## Parte 1: Exercícios Teóricos\n",
        "\n",
        "Na maior parte das atividades teremos 2 partes: \n",
        "\n",
        "- Uma com exercícios teóricos, envolvendo as questões conceituas de algorimos e simulações manuais. \n",
        "\n",
        "  - Estes exercícios são baseados no livro \"Introduction to Statistical Learning\" e devem ser realizados após a leitura do capítulo correspondente. \n",
        "\n",
        "- Outra contendo exercícios práticos, com códigos em Python\n",
        "\n",
        "  - Devem ser feitos após realizar as atividades e leituras propostas nas aulas.\n",
        "\n",
        "---"
      ],
      "metadata": {
        "id": "IyWmTuuYjRCP"
      }
    },
    {
      "cell_type": "markdown",
      "source": [
        "### Exercício 1.1 - [1 ponto - 0.2 para cada itens a,b e 0.3 para itens c,d]\n",
        "\n",
        "Foi realizada uma pesquisa para verificar o preço de um imóvel em uma região da cidade em função da metragem e se verificou a seguinte relação:\n",
        "\n",
        "preço = 10.000 + 5.000 * área ($m^2$) + $\\epsilon$\n",
        "\n",
        "(a) Você possui um imóvel de 50$m^2$. Qual será o preço esperado de venda deste imóvel? \n"
      ],
      "metadata": {
        "id": "jAjJXeKQlrZW"
      }
    },
    {
      "cell_type": "markdown",
      "source": [
        "***Resposta:*** O preço esperado de venda é de R$260.000"
      ],
      "metadata": {
        "id": "jz9uZGg9nKqz"
      }
    },
    {
      "cell_type": "markdown",
      "source": [
        "(b) Você deseja fazer o ajuste de um modelo linear para um conjunto de dados de imóveis que você recebeu. \n",
        "\n",
        "Para um modelo $Y = \\beta_0 + \\beta_1 X + ϵ$, quais seriam bons valores de $\\beta_0$ e $\\beta_1$?\n"
      ],
      "metadata": {
        "id": "xhdYusKFnMjZ"
      }
    },
    {
      "cell_type": "markdown",
      "source": [
        ""
      ],
      "metadata": {
        "id": "Q-mZ4tsiOv-n"
      }
    },
    {
      "cell_type": "markdown",
      "source": [
        "***Resposta:*** $\\beta_0 = 10000, \\beta_1 = 5000$"
      ],
      "metadata": {
        "id": "2Ch_vg1VnMjg"
      }
    },
    {
      "cell_type": "markdown",
      "source": [
        "(c) No modelo linear existe um termo de erro $\\epsilon$. Por que este termo existe e o que ele contempla? \n"
      ],
      "metadata": {
        "id": "FItVrGJ5nM1H"
      }
    },
    {
      "cell_type": "markdown",
      "source": [
        "***Resposta:*** O $ϵ$ descreve o compontente aleatório da relação linear entre X e Y. Ele existe para indicar que existem contribuições às respostas observadas que não é capturada pelo modelo. \n",
        "\n",
        "Estas contribuições podem ser decorrentes de preditores cujos dados não estão disponíveis, ao fato das contribuições dos preditores não serem lineares, ou outras fontes de variabilidade, como a subjetividade na definição de preços de imóveis."
      ],
      "metadata": {
        "id": "uYgvGUj7nM1J"
      }
    },
    {
      "cell_type": "markdown",
      "source": [
        "(d) Seria possível fazer um modelo onde o valor de $\\epsilon$ é zero? O que este modelo deveria conter?\n"
      ],
      "metadata": {
        "id": "w3OzU1s_nNId"
      }
    },
    {
      "cell_type": "markdown",
      "source": [
        "***Resposta:*** Sim, seria possível fazer um modelo onde o valor de $ϵ$ desde que:\n",
        "\n",
        "1. se tenham disponíveis todos os preditores que influenciam no valor da resposta Y\n",
        "2. as dependências entre os preditores e resposta sejam totalmente capturada pelo modelo (no caso do modelo linear, elas teriam que ser lineares). \n",
        "\n"
      ],
      "metadata": {
        "id": "9KO61m4GnNIf"
      }
    },
    {
      "cell_type": "markdown",
      "source": [
        "### Exercício 1.2 - [2 pontos - 0.5 pontos para cada item]\n",
        "\n",
        "Para estimar o salário inicial ao se formar após a formação em um dos bacharelados interdisciplinares (BCT ou BCH) da UFABC, suponha que temos um dataset com 5 atributos preditores:\n",
        "\n",
        "$X_1 → $ CR\n",
        "\n",
        "$X_2 →$ QI\n",
        "\n",
        "$X_3 →$ gênero (1 - mulheres, 0 - homens)\n",
        "\n",
        "$X_4 →$ interação entre o CR e o QI\n",
        "\n",
        "$X_5 →$ interação entre o CR e o gênero.\n",
        "\n",
        "Supondo que utilizamos o método de mínimos quadrados para ajustar o modelo e obtivemos:\n",
        "\n",
        "$\\hat\\beta_0 = 50$, $\\hat\\beta_1 = 20$, $\\hat\\beta_2 = 0.07$, $\\hat\\beta_3 = 35$, $\\hat\\beta_4 = 0.01$, $\\hat\\beta_6 = -10$\n",
        "\n",
        "Responda as questões abaixo, justificando sua resposta para todas elas:\n",
        "\n",
        "(a) Selecione a afirmativa verdadeira:\n",
        "\n",
        "i. Para um valor fixo de CR e QI, os homens ganham em média mais do que as mulheres.\n",
        "\n",
        "ii. Para um valor fixo de CR e QI, as mulheres ganham em média mais do que os homens.\n",
        "\n",
        "iii. Para um valor fixo de CR e QI, os homens ganham em média mais do que as mulheres, desde que o CR seja alto o suficiente.\n",
        "\n",
        "iv. Para um valor fixo de CR e QI, as mulheres ganham mais em média do que os homens, desde que o CR seja alto o suficiente.\n"
      ],
      "metadata": {
        "id": "ijBabNR_b8yV"
      }
    },
    {
      "cell_type": "markdown",
      "source": [
        "***Resposta:*** Alternativa iii.\n",
        "\n",
        "$Y=50+20(CR)+0.07(QI)+35(gênero)+0.01(CR*QI)-10(CR*gênero)$\n",
        "\n",
        "$ Y = 50 + 20 k_1 + 0.07 k_2 + 35 gênero + 0.01(k_1 * k_2) - 10 (k_1 * gênero)$\n",
        "\n",
        "Para homens: (gênero = 0) $Y=50+20k_1+0.07k_2+0.01(k_1∗k_2)$\n",
        "\n",
        "Para Mulheres: (gênero = 1) $Y=50+20k_1+0.07k_2+0.01(k_1∗k_2)+35−10(k_1)$\n",
        "\n",
        "Assim, se o CR é alto o suficiente (>3,5) homens ganham mais em média.\n",
        "\n",
        "**Justificativa das outras questões:**\n",
        "\n",
        "(i) Reorganizando a equação para salário temos:\n",
        "\n",
        "$50 + 20 * CR + 0.07 * QI + 35 * Mulher + 0.01 * CR * QI - 10 * CR * Mulher$\n",
        "\n",
        "Agora podemos estimar que homens ganham uma média de $50 + 20 * média(CR) + 0.07 * média(QI) + 0.01 * média(CR) * média(QI)$ enquanto mulheres ganham uma média de $50 + 20 * média(CR) + 0.07 * média(QI) + 35 + 0.01 * média(CR) * média(QI) - 10 * média(CR)$. Subtraindo os termos em comum, percebe-se que mulheres ganham em média $35 - 10 * média(CR)$ a mais do que homens. Já que não sabemos o valor de $média(CR)$, não sabemos se homens estão ganhando em média mais do que mulheres ou não.\n",
        "\n",
        "(ii) Assim como na resposta anterior, isso é indeterminado graças à falta do valor $média(CR)$\n",
        "\n",
        "(iv) Visto que mulheres ganham uma média de $35 - 10 * médio(CR)$ a mais do que homens, um CR mais alto significa que mulheres ganham menos do que os homens, tornando essa afirmação falsa."
      ],
      "metadata": {
        "id": "bdJNOuk9irTE"
      }
    },
    {
      "cell_type": "markdown",
      "source": [
        "(b) Estime o salário de uma mulher com QI de 110 e CR de 4,0. Estime o salário de um homem com os mesmos valores de QI e CR. \n"
      ],
      "metadata": {
        "id": "ItmaJQPsirTE"
      }
    },
    {
      "cell_type": "markdown",
      "source": [
        "***Resposta:*** Equanto a mulher recebe 137.1, o homem recebe 142.1\n",
        "\n",
        "Para mulher:\n",
        "\n",
        "$Y=50+20∗(4)+0.07∗(110)+35+0.01∗(4∗110)−10∗(4∗1)$\n",
        "\n",
        "Para homem:\n",
        "\n",
        "$Y=50+20∗(4)+0.07∗(110)+0.01∗(4∗110)$\n"
      ],
      "metadata": {
        "id": "0EOC-tLhisCz"
      }
    },
    {
      "cell_type": "markdown",
      "source": [
        "(c) Com base na sua resposta a questão anterior:\n",
        "\n",
        "i. Se você marcou a alternativa (i): selecione apenas um valor de $\\hat\\beta$ para alterar de modo a descrever um modelo em que as mulheres ganhem em média mais que os homens. \n",
        "\n",
        "ii. Se você marcou a alternativa (ii): selecione apenas um valor de $\\hat\\beta$ para alterar de modo a descrever um modelo em que os homens ganhem em média mais que as mulheres. \n",
        "\n",
        "iii. Se você marcou a alternativa (iii): qual o mínimo valor de CR para que o salário inicial dos homens supere o das mulheres?\n",
        "\n",
        "iv. Se você marcou a alternativa (iv): qual o mínimo valor de CR para que o salário inicial das mulheres supere o dos homens?\n"
      ],
      "metadata": {
        "id": "hUkonVOTisC0"
      }
    },
    {
      "cell_type": "markdown",
      "source": [
        "***Resposta:*** \n",
        "\n",
        "**i. Se você marcou a alternativa (i): selecione apenas um valor de  β^  para alterar de modo a descrever um modelo em que as mulheres ganhem em média mais que os homens.** \n",
        "\n",
        "Para que as mulheres ganhem mais que os homens podemos alterar $β_3$ ou $β_5$. Por exemplo, alterar $β_5$ de -10 para 10, implicaria que as mulheres sempre ganhariam mais que os homens. \n",
        "\n",
        "**ii. Se você marcou a alternativa (ii): selecione apenas um valor de  β^  para alterar de modo a descrever um modelo em que os homens ganhem em média mais que as mulheres.**\n",
        "\n",
        "Alterando $B_3$ para um valor negativo, teríamos que os homens ganhariam em média mais que as mulheres. \n",
        "\n",
        "**iii. Se você marcou a alternativa (iii): qual o mínimo valor de CR para que o salário inicial dos homens supere o das mulheres?**\n",
        "\n",
        "O CR deve ser maior que 3.5 (contas no item acima)\n",
        "\n",
        "**iv. Se você marcou a alternativa (iv): qual o mínimo valor de CR para que o salário inicial das mulheres supere o dos homens?**\n",
        "\n",
        "O mínimo valor de CR para que o salário inicial das mulheres supere o dos homens é de 0. "
      ],
      "metadata": {
        "id": "dSzCNdrkisa0"
      }
    },
    {
      "cell_type": "markdown",
      "source": [
        "(d) Verdadeiro ou falso:\n",
        "\n",
        "Como o coeficiente para o termo de interação CR-QI é muito pequeno, há pouca evidência de um efeito de interação. Justifique sua resposta."
      ],
      "metadata": {
        "id": "poP-PorRisa1"
      }
    },
    {
      "cell_type": "markdown",
      "source": [
        "***Resposta:*** Falso.\n",
        "\n",
        "O coeficiente pequeno não indica o menor efeito do termo de interação. Isso pode ser percebido ao notar-se o valor p do coeficiente para determinar sua significância estatística."
      ],
      "metadata": {
        "id": "EPyDcuYki2n2"
      }
    },
    {
      "cell_type": "markdown",
      "source": [
        "### Exercício 1.3 - [1 ponto]\n",
        "\n",
        "Um pesquisador coletou o conjunto de dados (n = 100 observações) com um único atributo e uma resposta quantitativa. Em seguida, ele ajustou separadamente:\n",
        "\n",
        "i. um modelo de regressão linear aos dados\n",
        "\n",
        "ii. um modelo de regressão cúbica, i.e., $Y = β_0 + β_1 X + \\beta_2 X^2 + β_3 X^3 + ϵ$.\n",
        "\n",
        "-\n",
        "\n",
        "(a) Supondo que X e Y se relacionam linearmente, i.e., $Y = β_0 + β_1 X + ϵ$, considere que você ajustou o modelo usando a regressão linear e cúbica. Com relação à soma dos resíduos ao quadrado (RSS, do inglês *residual sum of squares*) para os dados do conjunto de treinamento, você espera que:\n",
        "\n",
        "i. o RSS seja menor para a regressão linear \n",
        "\n",
        "ii. o RSS seja menor para a regressão cúbica\n",
        "\n",
        "iii. os RSSs sejam os mesmos\n",
        "\n",
        "iv. não há informação o suficiente para determinar. \n",
        "\n",
        "Note que os dados de treinamento são os exemplos fornecidos para fazer o ajuste do modelo linear.\n",
        "\n",
        "Justifique a sua resposta. "
      ],
      "metadata": {
        "id": "VS1jQbpLmHUu"
      }
    },
    {
      "cell_type": "markdown",
      "source": [
        "***Resposta:*** Alternativa ii. \n",
        "\n",
        "A regressão cúbica possui mais parâmetros e consegue se ajustar melhor ao conjunto de dados de treinamento, mesmos que eles sejam proveninentes de uma relação linear. \n",
        "\n",
        "Isto porque o ruído $\\epsilon$ faz com que as amostras sempre tenham alguma variabilidade sobre a relação linear e a regressão cúbica consegue ajustar um modelo que fique mais próximo destes dados com ruídos. "
      ],
      "metadata": {
        "id": "v8rQHmh1h-gV"
      }
    },
    {
      "cell_type": "markdown",
      "source": [
        "(b) Idem ao item (a), mas agora considere que você está calculando o RSS para um conjunto de teste, isto é, um conjunto de dados diferente daquele utilizado para o ajuste do modelo."
      ],
      "metadata": {
        "id": "qD0HAYOviFW9"
      }
    },
    {
      "cell_type": "markdown",
      "source": [
        "***Resposta:*** Alternativa i. \n",
        "\n",
        "Modelos com menos parâmetros, como o linear, tendem a ter uma variância menor que os com mais parâmetros (cúbico). Isto porque o modelo cúbico faz um ajuste mais fino aos dados de treinamento, de modo que diferentes conjuntos de dados de treinamento geram parâmetros diferentes para os modelos. Como o viés de ambos os modelos será similar (pois a relação real é linear), é esperado que o modelo linear gere um erro menor no cojunto de teste.\n"
      ],
      "metadata": {
        "id": "1inmAiktiAXk"
      }
    },
    {
      "cell_type": "markdown",
      "source": [
        "---\n",
        "## Parte 2: Exercícios Práticos com Python"
      ],
      "metadata": {
        "id": "5VA-yAY1hTrD"
      }
    },
    {
      "cell_type": "markdown",
      "source": [
        "### Exercício 2.1 - Regressão Linear Simples [2 pontos]\n",
        "\n",
        "Baixe o conjunto de dados `sklearn.datasets.load_diabetes` do scikit-learn, no formato **Pandas**, como no exemplo abaixo:\n",
        "\n",
        "```\n",
        "import pandas as pd\n",
        "from sklearn.datasets import load_diabetes\n",
        "\n",
        "data = load_diabetes(as_frame=True)\n",
        "\n",
        "df = data.data\n",
        "```\n",
        "\n",
        "**dica:** para gerar múltiplos plots, o melhor é utilizar o comando `plt.subplot`. No link abaixo o autor colocou exemplos de como utilizar o comando `plt.subplot`:\n",
        "\n",
        "https://www.geeksforgeeks.org/multiplots-in-python-using-matplotlib/\n",
        "\n",
        "\n",
        "--\n"
      ],
      "metadata": {
        "id": "CyXjpBOihZ94"
      }
    },
    {
      "cell_type": "code",
      "source": [
        "# Baixando o conjunto de dados no formato pandas\n",
        "import pandas as pd\n",
        "import numpy as np\n",
        "from sklearn.datasets import load_diabetes\n",
        "\n",
        "data = load_diabetes(as_frame=True)\n",
        "\n",
        "df = data.data"
      ],
      "metadata": {
        "id": "XAk7H7GPeA_5"
      },
      "execution_count": null,
      "outputs": []
    },
    {
      "cell_type": "code",
      "source": [
        "df['Target'] = data.target # Definindo uma coluna Target para usar no statsmodel"
      ],
      "metadata": {
        "id": "pv_Lwim9tlnC"
      },
      "execution_count": null,
      "outputs": []
    },
    {
      "cell_type": "code",
      "source": [
        "df # Para visualizar os dados"
      ],
      "metadata": {
        "colab": {
          "base_uri": "https://localhost:8080/",
          "height": 423
        },
        "id": "wUBfptew2aN9",
        "outputId": "0ba4d6b0-ca75-4fbf-b7e5-96ad4a19a28d"
      },
      "execution_count": null,
      "outputs": [
        {
          "output_type": "execute_result",
          "data": {
            "text/html": [
              "\n",
              "  <div id=\"df-e72b0df1-e9ca-4c07-9800-a38166357ac7\">\n",
              "    <div class=\"colab-df-container\">\n",
              "      <div>\n",
              "<style scoped>\n",
              "    .dataframe tbody tr th:only-of-type {\n",
              "        vertical-align: middle;\n",
              "    }\n",
              "\n",
              "    .dataframe tbody tr th {\n",
              "        vertical-align: top;\n",
              "    }\n",
              "\n",
              "    .dataframe thead th {\n",
              "        text-align: right;\n",
              "    }\n",
              "</style>\n",
              "<table border=\"1\" class=\"dataframe\">\n",
              "  <thead>\n",
              "    <tr style=\"text-align: right;\">\n",
              "      <th></th>\n",
              "      <th>age</th>\n",
              "      <th>sex</th>\n",
              "      <th>bmi</th>\n",
              "      <th>bp</th>\n",
              "      <th>s1</th>\n",
              "      <th>s2</th>\n",
              "      <th>s3</th>\n",
              "      <th>s4</th>\n",
              "      <th>s5</th>\n",
              "      <th>s6</th>\n",
              "      <th>Target</th>\n",
              "    </tr>\n",
              "  </thead>\n",
              "  <tbody>\n",
              "    <tr>\n",
              "      <th>0</th>\n",
              "      <td>0.038076</td>\n",
              "      <td>0.050680</td>\n",
              "      <td>0.061696</td>\n",
              "      <td>0.021872</td>\n",
              "      <td>-0.044223</td>\n",
              "      <td>-0.034821</td>\n",
              "      <td>-0.043401</td>\n",
              "      <td>-0.002592</td>\n",
              "      <td>0.019908</td>\n",
              "      <td>-0.017646</td>\n",
              "      <td>151.0</td>\n",
              "    </tr>\n",
              "    <tr>\n",
              "      <th>1</th>\n",
              "      <td>-0.001882</td>\n",
              "      <td>-0.044642</td>\n",
              "      <td>-0.051474</td>\n",
              "      <td>-0.026328</td>\n",
              "      <td>-0.008449</td>\n",
              "      <td>-0.019163</td>\n",
              "      <td>0.074412</td>\n",
              "      <td>-0.039493</td>\n",
              "      <td>-0.068330</td>\n",
              "      <td>-0.092204</td>\n",
              "      <td>75.0</td>\n",
              "    </tr>\n",
              "    <tr>\n",
              "      <th>2</th>\n",
              "      <td>0.085299</td>\n",
              "      <td>0.050680</td>\n",
              "      <td>0.044451</td>\n",
              "      <td>-0.005671</td>\n",
              "      <td>-0.045599</td>\n",
              "      <td>-0.034194</td>\n",
              "      <td>-0.032356</td>\n",
              "      <td>-0.002592</td>\n",
              "      <td>0.002864</td>\n",
              "      <td>-0.025930</td>\n",
              "      <td>141.0</td>\n",
              "    </tr>\n",
              "    <tr>\n",
              "      <th>3</th>\n",
              "      <td>-0.089063</td>\n",
              "      <td>-0.044642</td>\n",
              "      <td>-0.011595</td>\n",
              "      <td>-0.036656</td>\n",
              "      <td>0.012191</td>\n",
              "      <td>0.024991</td>\n",
              "      <td>-0.036038</td>\n",
              "      <td>0.034309</td>\n",
              "      <td>0.022692</td>\n",
              "      <td>-0.009362</td>\n",
              "      <td>206.0</td>\n",
              "    </tr>\n",
              "    <tr>\n",
              "      <th>4</th>\n",
              "      <td>0.005383</td>\n",
              "      <td>-0.044642</td>\n",
              "      <td>-0.036385</td>\n",
              "      <td>0.021872</td>\n",
              "      <td>0.003935</td>\n",
              "      <td>0.015596</td>\n",
              "      <td>0.008142</td>\n",
              "      <td>-0.002592</td>\n",
              "      <td>-0.031991</td>\n",
              "      <td>-0.046641</td>\n",
              "      <td>135.0</td>\n",
              "    </tr>\n",
              "    <tr>\n",
              "      <th>...</th>\n",
              "      <td>...</td>\n",
              "      <td>...</td>\n",
              "      <td>...</td>\n",
              "      <td>...</td>\n",
              "      <td>...</td>\n",
              "      <td>...</td>\n",
              "      <td>...</td>\n",
              "      <td>...</td>\n",
              "      <td>...</td>\n",
              "      <td>...</td>\n",
              "      <td>...</td>\n",
              "    </tr>\n",
              "    <tr>\n",
              "      <th>437</th>\n",
              "      <td>0.041708</td>\n",
              "      <td>0.050680</td>\n",
              "      <td>0.019662</td>\n",
              "      <td>0.059744</td>\n",
              "      <td>-0.005697</td>\n",
              "      <td>-0.002566</td>\n",
              "      <td>-0.028674</td>\n",
              "      <td>-0.002592</td>\n",
              "      <td>0.031193</td>\n",
              "      <td>0.007207</td>\n",
              "      <td>178.0</td>\n",
              "    </tr>\n",
              "    <tr>\n",
              "      <th>438</th>\n",
              "      <td>-0.005515</td>\n",
              "      <td>0.050680</td>\n",
              "      <td>-0.015906</td>\n",
              "      <td>-0.067642</td>\n",
              "      <td>0.049341</td>\n",
              "      <td>0.079165</td>\n",
              "      <td>-0.028674</td>\n",
              "      <td>0.034309</td>\n",
              "      <td>-0.018118</td>\n",
              "      <td>0.044485</td>\n",
              "      <td>104.0</td>\n",
              "    </tr>\n",
              "    <tr>\n",
              "      <th>439</th>\n",
              "      <td>0.041708</td>\n",
              "      <td>0.050680</td>\n",
              "      <td>-0.015906</td>\n",
              "      <td>0.017282</td>\n",
              "      <td>-0.037344</td>\n",
              "      <td>-0.013840</td>\n",
              "      <td>-0.024993</td>\n",
              "      <td>-0.011080</td>\n",
              "      <td>-0.046879</td>\n",
              "      <td>0.015491</td>\n",
              "      <td>132.0</td>\n",
              "    </tr>\n",
              "    <tr>\n",
              "      <th>440</th>\n",
              "      <td>-0.045472</td>\n",
              "      <td>-0.044642</td>\n",
              "      <td>0.039062</td>\n",
              "      <td>0.001215</td>\n",
              "      <td>0.016318</td>\n",
              "      <td>0.015283</td>\n",
              "      <td>-0.028674</td>\n",
              "      <td>0.026560</td>\n",
              "      <td>0.044528</td>\n",
              "      <td>-0.025930</td>\n",
              "      <td>220.0</td>\n",
              "    </tr>\n",
              "    <tr>\n",
              "      <th>441</th>\n",
              "      <td>-0.045472</td>\n",
              "      <td>-0.044642</td>\n",
              "      <td>-0.073030</td>\n",
              "      <td>-0.081414</td>\n",
              "      <td>0.083740</td>\n",
              "      <td>0.027809</td>\n",
              "      <td>0.173816</td>\n",
              "      <td>-0.039493</td>\n",
              "      <td>-0.004220</td>\n",
              "      <td>0.003064</td>\n",
              "      <td>57.0</td>\n",
              "    </tr>\n",
              "  </tbody>\n",
              "</table>\n",
              "<p>442 rows × 11 columns</p>\n",
              "</div>\n",
              "      <button class=\"colab-df-convert\" onclick=\"convertToInteractive('df-e72b0df1-e9ca-4c07-9800-a38166357ac7')\"\n",
              "              title=\"Convert this dataframe to an interactive table.\"\n",
              "              style=\"display:none;\">\n",
              "        \n",
              "  <svg xmlns=\"http://www.w3.org/2000/svg\" height=\"24px\"viewBox=\"0 0 24 24\"\n",
              "       width=\"24px\">\n",
              "    <path d=\"M0 0h24v24H0V0z\" fill=\"none\"/>\n",
              "    <path d=\"M18.56 5.44l.94 2.06.94-2.06 2.06-.94-2.06-.94-.94-2.06-.94 2.06-2.06.94zm-11 1L8.5 8.5l.94-2.06 2.06-.94-2.06-.94L8.5 2.5l-.94 2.06-2.06.94zm10 10l.94 2.06.94-2.06 2.06-.94-2.06-.94-.94-2.06-.94 2.06-2.06.94z\"/><path d=\"M17.41 7.96l-1.37-1.37c-.4-.4-.92-.59-1.43-.59-.52 0-1.04.2-1.43.59L10.3 9.45l-7.72 7.72c-.78.78-.78 2.05 0 2.83L4 21.41c.39.39.9.59 1.41.59.51 0 1.02-.2 1.41-.59l7.78-7.78 2.81-2.81c.8-.78.8-2.07 0-2.86zM5.41 20L4 18.59l7.72-7.72 1.47 1.35L5.41 20z\"/>\n",
              "  </svg>\n",
              "      </button>\n",
              "      \n",
              "  <style>\n",
              "    .colab-df-container {\n",
              "      display:flex;\n",
              "      flex-wrap:wrap;\n",
              "      gap: 12px;\n",
              "    }\n",
              "\n",
              "    .colab-df-convert {\n",
              "      background-color: #E8F0FE;\n",
              "      border: none;\n",
              "      border-radius: 50%;\n",
              "      cursor: pointer;\n",
              "      display: none;\n",
              "      fill: #1967D2;\n",
              "      height: 32px;\n",
              "      padding: 0 0 0 0;\n",
              "      width: 32px;\n",
              "    }\n",
              "\n",
              "    .colab-df-convert:hover {\n",
              "      background-color: #E2EBFA;\n",
              "      box-shadow: 0px 1px 2px rgba(60, 64, 67, 0.3), 0px 1px 3px 1px rgba(60, 64, 67, 0.15);\n",
              "      fill: #174EA6;\n",
              "    }\n",
              "\n",
              "    [theme=dark] .colab-df-convert {\n",
              "      background-color: #3B4455;\n",
              "      fill: #D2E3FC;\n",
              "    }\n",
              "\n",
              "    [theme=dark] .colab-df-convert:hover {\n",
              "      background-color: #434B5C;\n",
              "      box-shadow: 0px 1px 3px 1px rgba(0, 0, 0, 0.15);\n",
              "      filter: drop-shadow(0px 1px 2px rgba(0, 0, 0, 0.3));\n",
              "      fill: #FFFFFF;\n",
              "    }\n",
              "  </style>\n",
              "\n",
              "      <script>\n",
              "        const buttonEl =\n",
              "          document.querySelector('#df-e72b0df1-e9ca-4c07-9800-a38166357ac7 button.colab-df-convert');\n",
              "        buttonEl.style.display =\n",
              "          google.colab.kernel.accessAllowed ? 'block' : 'none';\n",
              "\n",
              "        async function convertToInteractive(key) {\n",
              "          const element = document.querySelector('#df-e72b0df1-e9ca-4c07-9800-a38166357ac7');\n",
              "          const dataTable =\n",
              "            await google.colab.kernel.invokeFunction('convertToInteractive',\n",
              "                                                     [key], {});\n",
              "          if (!dataTable) return;\n",
              "\n",
              "          const docLinkHtml = 'Like what you see? Visit the ' +\n",
              "            '<a target=\"_blank\" href=https://colab.research.google.com/notebooks/data_table.ipynb>data table notebook</a>'\n",
              "            + ' to learn more about interactive tables.';\n",
              "          element.innerHTML = '';\n",
              "          dataTable['output_type'] = 'display_data';\n",
              "          await google.colab.output.renderOutput(dataTable, element);\n",
              "          const docLink = document.createElement('div');\n",
              "          docLink.innerHTML = docLinkHtml;\n",
              "          element.appendChild(docLink);\n",
              "        }\n",
              "      </script>\n",
              "    </div>\n",
              "  </div>\n",
              "  "
            ],
            "text/plain": [
              "          age       sex       bmi        bp        s1        s2        s3  \\\n",
              "0    0.038076  0.050680  0.061696  0.021872 -0.044223 -0.034821 -0.043401   \n",
              "1   -0.001882 -0.044642 -0.051474 -0.026328 -0.008449 -0.019163  0.074412   \n",
              "2    0.085299  0.050680  0.044451 -0.005671 -0.045599 -0.034194 -0.032356   \n",
              "3   -0.089063 -0.044642 -0.011595 -0.036656  0.012191  0.024991 -0.036038   \n",
              "4    0.005383 -0.044642 -0.036385  0.021872  0.003935  0.015596  0.008142   \n",
              "..        ...       ...       ...       ...       ...       ...       ...   \n",
              "437  0.041708  0.050680  0.019662  0.059744 -0.005697 -0.002566 -0.028674   \n",
              "438 -0.005515  0.050680 -0.015906 -0.067642  0.049341  0.079165 -0.028674   \n",
              "439  0.041708  0.050680 -0.015906  0.017282 -0.037344 -0.013840 -0.024993   \n",
              "440 -0.045472 -0.044642  0.039062  0.001215  0.016318  0.015283 -0.028674   \n",
              "441 -0.045472 -0.044642 -0.073030 -0.081414  0.083740  0.027809  0.173816   \n",
              "\n",
              "           s4        s5        s6  Target  \n",
              "0   -0.002592  0.019908 -0.017646   151.0  \n",
              "1   -0.039493 -0.068330 -0.092204    75.0  \n",
              "2   -0.002592  0.002864 -0.025930   141.0  \n",
              "3    0.034309  0.022692 -0.009362   206.0  \n",
              "4   -0.002592 -0.031991 -0.046641   135.0  \n",
              "..        ...       ...       ...     ...  \n",
              "437 -0.002592  0.031193  0.007207   178.0  \n",
              "438  0.034309 -0.018118  0.044485   104.0  \n",
              "439 -0.011080 -0.046879  0.015491   132.0  \n",
              "440  0.026560  0.044528 -0.025930   220.0  \n",
              "441 -0.039493 -0.004220  0.003064    57.0  \n",
              "\n",
              "[442 rows x 11 columns]"
            ]
          },
          "metadata": {},
          "execution_count": 3
        }
      ]
    },
    {
      "cell_type": "code",
      "source": [
        "# Importando algumas bibliotecas que serão utilizadas\n",
        "import numpy as np\n",
        "import statsmodels.api as sm\n",
        "import statsmodels.formula.api as smf\n",
        "import matplotlib.pyplot as plt"
      ],
      "metadata": {
        "id": "XATJmhBjubzS",
        "colab": {
          "base_uri": "https://localhost:8080/"
        },
        "outputId": "61c23e24-c42a-464f-ee2a-3cdd33d5babe"
      },
      "execution_count": null,
      "outputs": [
        {
          "output_type": "stream",
          "name": "stderr",
          "text": [
            "/usr/local/lib/python3.7/dist-packages/statsmodels/tools/_testing.py:19: FutureWarning: pandas.util.testing is deprecated. Use the functions in the public API at pandas.testing instead.\n",
            "  import pandas.util.testing as tm\n"
          ]
        }
      ]
    },
    {
      "cell_type": "markdown",
      "source": [
        "a) Faça a regressão linear para cada regressor usando o `statsmodels`. Avalie o R² da regressão e a hipótese de que o preditor está relacionado com a resposta."
      ],
      "metadata": {
        "id": "UJhG5mZL2vRW"
      }
    },
    {
      "cell_type": "code",
      "source": [
        "model = {}\n",
        "for var in df.columns:\n",
        "    if var == 'Target':\n",
        "        continue # Não queremos utilizar o próprio label para prevê-lo\n",
        "    results = smf.ols(f'Target ~ {var}', data=df).fit()\n",
        "    b0, b1 = results.params\n",
        "    model[var] = (b0, b1)\n",
        "    print(f\"Rregressor: {var}\\n\")\n",
        "    print(results.summary(), \"\\n\\n\")"
      ],
      "metadata": {
        "colab": {
          "base_uri": "https://localhost:8080/"
        },
        "id": "SgH9WyDGuVRX",
        "outputId": "d22d48e1-5813-4ea9-8730-7b0c19621f12"
      },
      "execution_count": null,
      "outputs": [
        {
          "output_type": "stream",
          "name": "stdout",
          "text": [
            "Rregressor: age\n",
            "\n",
            "                            OLS Regression Results                            \n",
            "==============================================================================\n",
            "Dep. Variable:                 Target   R-squared:                       0.035\n",
            "Model:                            OLS   Adj. R-squared:                  0.033\n",
            "Method:                 Least Squares   F-statistic:                     16.10\n",
            "Date:                Tue, 08 Mar 2022   Prob (F-statistic):           7.06e-05\n",
            "Time:                        22:30:18   Log-Likelihood:                -2539.2\n",
            "No. Observations:                 442   AIC:                             5082.\n",
            "Df Residuals:                     440   BIC:                             5091.\n",
            "Df Model:                           1                                         \n",
            "Covariance Type:            nonrobust                                         \n",
            "==============================================================================\n",
            "                 coef    std err          t      P>|t|      [0.025      0.975]\n",
            "------------------------------------------------------------------------------\n",
            "Intercept    152.1335      3.606     42.192      0.000     145.047     159.220\n",
            "age          304.1831     75.806      4.013      0.000     155.196     453.170\n",
            "==============================================================================\n",
            "Omnibus:                       52.996   Durbin-Watson:                   1.921\n",
            "Prob(Omnibus):                  0.000   Jarque-Bera (JB):               26.909\n",
            "Skew:                           0.438   Prob(JB):                     1.43e-06\n",
            "Kurtosis:                       2.167   Cond. No.                         21.0\n",
            "==============================================================================\n",
            "\n",
            "Warnings:\n",
            "[1] Standard Errors assume that the covariance matrix of the errors is correctly specified. \n",
            "\n",
            "\n",
            "Rregressor: sex\n",
            "\n",
            "                            OLS Regression Results                            \n",
            "==============================================================================\n",
            "Dep. Variable:                 Target   R-squared:                       0.002\n",
            "Model:                            OLS   Adj. R-squared:                 -0.000\n",
            "Method:                 Least Squares   F-statistic:                    0.8174\n",
            "Date:                Tue, 08 Mar 2022   Prob (F-statistic):              0.366\n",
            "Time:                        22:30:18   Log-Likelihood:                -2546.8\n",
            "No. Observations:                 442   AIC:                             5098.\n",
            "Df Residuals:                     440   BIC:                             5106.\n",
            "Df Model:                           1                                         \n",
            "Covariance Type:            nonrobust                                         \n",
            "==============================================================================\n",
            "                 coef    std err          t      P>|t|      [0.025      0.975]\n",
            "------------------------------------------------------------------------------\n",
            "Intercept    152.1335      3.668     41.479      0.000     144.925     159.342\n",
            "sex           69.7154     77.109      0.904      0.366     -81.832     221.263\n",
            "==============================================================================\n",
            "Omnibus:                       64.308   Durbin-Watson:                   1.908\n",
            "Prob(Omnibus):                  0.000   Jarque-Bera (JB):               28.530\n",
            "Skew:                           0.436   Prob(JB):                     6.38e-07\n",
            "Kurtosis:                       2.112   Cond. No.                         21.0\n",
            "==============================================================================\n",
            "\n",
            "Warnings:\n",
            "[1] Standard Errors assume that the covariance matrix of the errors is correctly specified. \n",
            "\n",
            "\n",
            "Rregressor: bmi\n",
            "\n",
            "                            OLS Regression Results                            \n",
            "==============================================================================\n",
            "Dep. Variable:                 Target   R-squared:                       0.344\n",
            "Model:                            OLS   Adj. R-squared:                  0.342\n",
            "Method:                 Least Squares   F-statistic:                     230.7\n",
            "Date:                Tue, 08 Mar 2022   Prob (F-statistic):           3.47e-42\n",
            "Time:                        22:30:18   Log-Likelihood:                -2454.0\n",
            "No. Observations:                 442   AIC:                             4912.\n",
            "Df Residuals:                     440   BIC:                             4920.\n",
            "Df Model:                           1                                         \n",
            "Covariance Type:            nonrobust                                         \n",
            "==============================================================================\n",
            "                 coef    std err          t      P>|t|      [0.025      0.975]\n",
            "------------------------------------------------------------------------------\n",
            "Intercept    152.1335      2.974     51.162      0.000     146.289     157.978\n",
            "bmi          949.4353     62.515     15.187      0.000     826.570    1072.301\n",
            "==============================================================================\n",
            "Omnibus:                       11.674   Durbin-Watson:                   1.848\n",
            "Prob(Omnibus):                  0.003   Jarque-Bera (JB):                7.310\n",
            "Skew:                           0.156   Prob(JB):                       0.0259\n",
            "Kurtosis:                       2.453   Cond. No.                         21.0\n",
            "==============================================================================\n",
            "\n",
            "Warnings:\n",
            "[1] Standard Errors assume that the covariance matrix of the errors is correctly specified. \n",
            "\n",
            "\n",
            "Rregressor: bp\n",
            "\n",
            "                            OLS Regression Results                            \n",
            "==============================================================================\n",
            "Dep. Variable:                 Target   R-squared:                       0.195\n",
            "Model:                            OLS   Adj. R-squared:                  0.193\n",
            "Method:                 Least Squares   F-statistic:                     106.5\n",
            "Date:                Tue, 08 Mar 2022   Prob (F-statistic):           1.65e-22\n",
            "Time:                        22:30:18   Log-Likelihood:                -2499.3\n",
            "No. Observations:                 442   AIC:                             5003.\n",
            "Df Residuals:                     440   BIC:                             5011.\n",
            "Df Model:                           1                                         \n",
            "Covariance Type:            nonrobust                                         \n",
            "==============================================================================\n",
            "                 coef    std err          t      P>|t|      [0.025      0.975]\n",
            "------------------------------------------------------------------------------\n",
            "Intercept    152.1335      3.294     46.185      0.000     145.660     158.607\n",
            "bp           714.7416     69.252     10.321      0.000     578.636     850.847\n",
            "==============================================================================\n",
            "Omnibus:                       10.258   Durbin-Watson:                   2.058\n",
            "Prob(Omnibus):                  0.006   Jarque-Bera (JB):                9.969\n",
            "Skew:                           0.329   Prob(JB):                      0.00684\n",
            "Kurtosis:                       2.670   Cond. No.                         21.0\n",
            "==============================================================================\n",
            "\n",
            "Warnings:\n",
            "[1] Standard Errors assume that the covariance matrix of the errors is correctly specified. \n",
            "\n",
            "\n",
            "Rregressor: s1\n",
            "\n",
            "                            OLS Regression Results                            \n",
            "==============================================================================\n",
            "Dep. Variable:                 Target   R-squared:                       0.045\n",
            "Model:                            OLS   Adj. R-squared:                  0.043\n",
            "Method:                 Least Squares   F-statistic:                     20.71\n",
            "Date:                Tue, 08 Mar 2022   Prob (F-statistic):           6.92e-06\n",
            "Time:                        22:30:18   Log-Likelihood:                -2537.0\n",
            "No. Observations:                 442   AIC:                             5078.\n",
            "Df Residuals:                     440   BIC:                             5086.\n",
            "Df Model:                           1                                         \n",
            "Covariance Type:            nonrobust                                         \n",
            "==============================================================================\n",
            "                 coef    std err          t      P>|t|      [0.025      0.975]\n",
            "------------------------------------------------------------------------------\n",
            "Intercept    152.1335      3.588     42.405      0.000     145.082     159.185\n",
            "s1           343.2545     75.426      4.551      0.000     195.015     491.494\n",
            "==============================================================================\n",
            "Omnibus:                       38.372   Durbin-Watson:                   1.874\n",
            "Prob(Omnibus):                  0.000   Jarque-Bera (JB):               26.032\n",
            "Skew:                           0.475   Prob(JB):                     2.22e-06\n",
            "Kurtosis:                       2.285   Cond. No.                         21.0\n",
            "==============================================================================\n",
            "\n",
            "Warnings:\n",
            "[1] Standard Errors assume that the covariance matrix of the errors is correctly specified. \n",
            "\n",
            "\n",
            "Rregressor: s2\n",
            "\n",
            "                            OLS Regression Results                            \n",
            "==============================================================================\n",
            "Dep. Variable:                 Target   R-squared:                       0.030\n",
            "Model:                            OLS   Adj. R-squared:                  0.028\n",
            "Method:                 Least Squares   F-statistic:                     13.75\n",
            "Date:                Tue, 08 Mar 2022   Prob (F-statistic):           0.000236\n",
            "Time:                        22:30:18   Log-Likelihood:                -2540.4\n",
            "No. Observations:                 442   AIC:                             5085.\n",
            "Df Residuals:                     440   BIC:                             5093.\n",
            "Df Model:                           1                                         \n",
            "Covariance Type:            nonrobust                                         \n",
            "==============================================================================\n",
            "                 coef    std err          t      P>|t|      [0.025      0.975]\n",
            "------------------------------------------------------------------------------\n",
            "Intercept    152.1335      3.615     42.083      0.000     145.029     159.238\n",
            "s2           281.7846     76.002      3.708      0.000     132.412     431.158\n",
            "==============================================================================\n",
            "Omnibus:                       46.057   Durbin-Watson:                   1.870\n",
            "Prob(Omnibus):                  0.000   Jarque-Bera (JB):               28.041\n",
            "Skew:                           0.480   Prob(JB):                     8.15e-07\n",
            "Kurtosis:                       2.225   Cond. No.                         21.0\n",
            "==============================================================================\n",
            "\n",
            "Warnings:\n",
            "[1] Standard Errors assume that the covariance matrix of the errors is correctly specified. \n",
            "\n",
            "\n",
            "Rregressor: s3\n",
            "\n",
            "                            OLS Regression Results                            \n",
            "==============================================================================\n",
            "Dep. Variable:                 Target   R-squared:                       0.156\n",
            "Model:                            OLS   Adj. R-squared:                  0.154\n",
            "Method:                 Least Squares   F-statistic:                     81.24\n",
            "Date:                Tue, 08 Mar 2022   Prob (F-statistic):           6.16e-18\n",
            "Time:                        22:30:18   Log-Likelihood:                -2509.7\n",
            "No. Observations:                 442   AIC:                             5023.\n",
            "Df Residuals:                     440   BIC:                             5032.\n",
            "Df Model:                           1                                         \n",
            "Covariance Type:            nonrobust                                         \n",
            "==============================================================================\n",
            "                 coef    std err          t      P>|t|      [0.025      0.975]\n",
            "------------------------------------------------------------------------------\n",
            "Intercept    152.1335      3.373     45.105      0.000     145.504     158.762\n",
            "s3          -639.1453     70.911     -9.013      0.000    -778.512    -499.778\n",
            "==============================================================================\n",
            "Omnibus:                       30.490   Durbin-Watson:                   1.908\n",
            "Prob(Omnibus):                  0.000   Jarque-Bera (JB):               18.293\n",
            "Skew:                           0.353   Prob(JB):                     0.000107\n",
            "Kurtosis:                       2.297   Cond. No.                         21.0\n",
            "==============================================================================\n",
            "\n",
            "Warnings:\n",
            "[1] Standard Errors assume that the covariance matrix of the errors is correctly specified. \n",
            "\n",
            "\n",
            "Rregressor: s4\n",
            "\n",
            "                            OLS Regression Results                            \n",
            "==============================================================================\n",
            "Dep. Variable:                 Target   R-squared:                       0.185\n",
            "Model:                            OLS   Adj. R-squared:                  0.183\n",
            "Method:                 Least Squares   F-statistic:                     100.1\n",
            "Date:                Tue, 08 Mar 2022   Prob (F-statistic):           2.30e-21\n",
            "Time:                        22:30:18   Log-Likelihood:                -2501.9\n",
            "No. Observations:                 442   AIC:                             5008.\n",
            "Df Residuals:                     440   BIC:                             5016.\n",
            "Df Model:                           1                                         \n",
            "Covariance Type:            nonrobust                                         \n",
            "==============================================================================\n",
            "                 coef    std err          t      P>|t|      [0.025      0.975]\n",
            "------------------------------------------------------------------------------\n",
            "Intercept    152.1335      3.314     45.912      0.000     145.621     158.646\n",
            "s4           696.8830     69.664     10.003      0.000     559.967     833.799\n",
            "==============================================================================\n",
            "Omnibus:                       19.299   Durbin-Watson:                   1.894\n",
            "Prob(Omnibus):                  0.000   Jarque-Bera (JB):               17.570\n",
            "Skew:                           0.427   Prob(JB):                     0.000153\n",
            "Kurtosis:                       2.527   Cond. No.                         21.0\n",
            "==============================================================================\n",
            "\n",
            "Warnings:\n",
            "[1] Standard Errors assume that the covariance matrix of the errors is correctly specified. \n",
            "\n",
            "\n",
            "Rregressor: s5\n",
            "\n",
            "                            OLS Regression Results                            \n",
            "==============================================================================\n",
            "Dep. Variable:                 Target   R-squared:                       0.320\n",
            "Model:                            OLS   Adj. R-squared:                  0.319\n",
            "Method:                 Least Squares   F-statistic:                     207.3\n",
            "Date:                Tue, 08 Mar 2022   Prob (F-statistic):           8.82e-39\n",
            "Time:                        22:30:18   Log-Likelihood:                -2461.9\n",
            "No. Observations:                 442   AIC:                             4928.\n",
            "Df Residuals:                     440   BIC:                             4936.\n",
            "Df Model:                           1                                         \n",
            "Covariance Type:            nonrobust                                         \n",
            "==============================================================================\n",
            "                 coef    std err          t      P>|t|      [0.025      0.975]\n",
            "------------------------------------------------------------------------------\n",
            "Intercept    152.1335      3.027     50.263      0.000     146.185     158.082\n",
            "s5           916.1387     63.634     14.397      0.000     791.074    1041.204\n",
            "==============================================================================\n",
            "Omnibus:                       11.707   Durbin-Watson:                   1.985\n",
            "Prob(Omnibus):                  0.003   Jarque-Bera (JB):               12.033\n",
            "Skew:                           0.384   Prob(JB):                      0.00244\n",
            "Kurtosis:                       2.747   Cond. No.                         21.0\n",
            "==============================================================================\n",
            "\n",
            "Warnings:\n",
            "[1] Standard Errors assume that the covariance matrix of the errors is correctly specified. \n",
            "\n",
            "\n",
            "Rregressor: s6\n",
            "\n",
            "                            OLS Regression Results                            \n",
            "==============================================================================\n",
            "Dep. Variable:                 Target   R-squared:                       0.146\n",
            "Model:                            OLS   Adj. R-squared:                  0.144\n",
            "Method:                 Least Squares   F-statistic:                     75.40\n",
            "Date:                Tue, 08 Mar 2022   Prob (F-statistic):           7.58e-17\n",
            "Time:                        22:30:18   Log-Likelihood:                -2512.2\n",
            "No. Observations:                 442   AIC:                             5028.\n",
            "Df Residuals:                     440   BIC:                             5037.\n",
            "Df Model:                           1                                         \n",
            "Covariance Type:            nonrobust                                         \n",
            "==============================================================================\n",
            "                 coef    std err          t      P>|t|      [0.025      0.975]\n",
            "------------------------------------------------------------------------------\n",
            "Intercept    152.1335      3.392     44.851      0.000     145.467     158.800\n",
            "s6           619.2228     71.312      8.683      0.000     479.068     759.377\n",
            "==============================================================================\n",
            "Omnibus:                       37.287   Durbin-Watson:                   1.880\n",
            "Prob(Omnibus):                  0.000   Jarque-Bera (JB):               18.075\n",
            "Skew:                           0.308   Prob(JB):                     0.000119\n",
            "Kurtosis:                       2.224   Cond. No.                         21.0\n",
            "==============================================================================\n",
            "\n",
            "Warnings:\n",
            "[1] Standard Errors assume that the covariance matrix of the errors is correctly specified. \n",
            "\n",
            "\n"
          ]
        }
      ]
    },
    {
      "cell_type": "markdown",
      "source": [
        "**Discussão:**\n",
        "\n",
        "O $R^2$ mede o quão bom é o ajuste de um modelo de regressão linear, indicando quantos por cento da variância na variável dependente podem ser explicados pela variável indepentente. Ou, em outras palavras, o $R^2$ é um coeficiente de correlação que mensura a força de associação entre duas variáveis, seja esta associação positiva ou negativa."
      ],
      "metadata": {
        "id": "MDOIiOxG33Md"
      }
    },
    {
      "cell_type": "markdown",
      "source": [
        "\n",
        " Variável  |    $R^2$ \n",
        "-----------|------------\n",
        "age         |   0.035    \n",
        "sex         |   0.002     \n",
        "bmi         |   0.344     \n",
        "bp          |   0.195    \n",
        "s1          |   0.045\n",
        "s2          |   0.030\n",
        "s3          |   0.156\n",
        "s4          |   0.185\n",
        "s5          |   0.320\n",
        "s6          |   0.146          \n",
        "\n",
        "A partir do valor de $R^2$ e do p-valor podemos concluir que as variáveis preditoras que apresentam uma maior linearidade com a variável dependente (ou alvo) são o bmi e o s5 que demonstra uma relação de linearidade relativamente alta com a variável alvo, seguidos pelas variáveis bp, s3, s4 e s6 que apresentam uma força de associação menos significativa, e, por fim, as variáveis age, sex e s1 explicam pouco da variância na variável dependente. \n",
        "\n",
        "Em relação a hipótese de o preditor estar associado a resposta, pudemos verificar através do p-valor que todas as variáveis preditoras, com exceção do atributo sex, contribuem para o resultado do modelo de forma significativa. "
      ],
      "metadata": {
        "id": "jbwdiQn4fRCm"
      }
    },
    {
      "cell_type": "markdown",
      "source": [
        "b) Gere gráficos de dispersão contendo o preditor *vs* resposta, e as predições do modelo. Em cada caso, discuta se parece existir uma relação de linearidade entre preditor e resposta."
      ],
      "metadata": {
        "id": "FjNQikOJ2yHr"
      }
    },
    {
      "cell_type": "code",
      "source": [
        "Labels = df.columns\n",
        "\n",
        "plt.figure(figsize=(25,7))\n",
        "\n",
        "for i in range(len(Labels)-1): # A última coluna é a da variável alvo\n",
        "  plt.subplot(2, 5, i+1)\n",
        "  plt.plot(df[Labels[i]], df['Target'], 'ok') # Gráfico de dispersão\n",
        "  b0, b1 = model[Labels[i]]\n",
        "  y = b0 + b1*df[Labels[i]]\n",
        "  plt.plot(df[Labels[i]], y, 'r', lw=3.0) # Predições do modelo\n",
        "  plt.xlabel(f'{Labels[i]}')\n",
        "  plt.ylabel(f'Target')\n",
        "  \n",
        "plt.show()"
      ],
      "metadata": {
        "colab": {
          "base_uri": "https://localhost:8080/",
          "height": 426
        },
        "id": "ZpgPeUj-xP3G",
        "outputId": "8d5f56ee-acc4-421e-bcca-1dcb0fca6655"
      },
      "execution_count": null,
      "outputs": [
        {
          "output_type": "display_data",
          "data": {
            "image/png": "[encoded data removed]",
            "text/plain": [
              "<Figure size 1800x504 with 10 Axes>"
            ]
          },
          "metadata": {
            "needs_background": "light"
          }
        }
      ]
    },
    {
      "cell_type": "markdown",
      "source": [
        "**Discussão:**\n",
        "\n",
        "Convergindo com o que verificamos através da análise do $R^2$, as variáveis preditoras que mostraram apresentar uma relação de linearidade mais forte com a variável alvo foram a bmi e a s5, seguidas por bp, s3 e s6. Neste ponto vale ressaltar que os valores de s4 não demonstraram ter uma relação de linearidade com os dados tão forte quanto s3 e s6, ainda que os valores de $R^2$ sejam consideráveis. Por fim, a variável sex não demonstrou apresentar uma relação de linearidade com a variável alvo e as demais variáveis apresentaram uma baixa força de associação. "
      ],
      "metadata": {
        "id": "DhPjUSgE0sit"
      }
    },
    {
      "cell_type": "markdown",
      "source": [
        "### Exercício 2.2 - Regressão Linear Múltipla [2 pontos]\n",
        "\n",
        "Utilizando o mesmo *dataset*, faça a regressão linear usando todos os regressores usando o `statsmodels`. \n",
        "\n",
        "a) Identifique quais preditores são relevantes para a resposta, a partir dos p-valores. Compare os resultados de relevância com a regressão múltiplas com aqueles do exercício 2.1 (regressão simples). "
      ],
      "metadata": {
        "id": "ViB-C__Mgcal"
      }
    },
    {
      "cell_type": "code",
      "source": [
        "results = smf.ols('Target ~ age + sex + bmi + bp + s1 + s2 + s3 + s4 + s5 + s6', data=df).fit()\n",
        "print(results.summary())"
      ],
      "metadata": {
        "colab": {
          "base_uri": "https://localhost:8080/"
        },
        "id": "P2NHXkjUxF8x",
        "outputId": "13a1f968-3464-46e1-d2ef-2349d5295b41"
      },
      "execution_count": null,
      "outputs": [
        {
          "output_type": "stream",
          "name": "stdout",
          "text": [
            "                            OLS Regression Results                            \n",
            "==============================================================================\n",
            "Dep. Variable:                 Target   R-squared:                       0.518\n",
            "Model:                            OLS   Adj. R-squared:                  0.507\n",
            "Method:                 Least Squares   F-statistic:                     46.27\n",
            "Date:                Tue, 08 Mar 2022   Prob (F-statistic):           3.83e-62\n",
            "Time:                        22:30:20   Log-Likelihood:                -2386.0\n",
            "No. Observations:                 442   AIC:                             4794.\n",
            "Df Residuals:                     431   BIC:                             4839.\n",
            "Df Model:                          10                                         \n",
            "Covariance Type:            nonrobust                                         \n",
            "==============================================================================\n",
            "                 coef    std err          t      P>|t|      [0.025      0.975]\n",
            "------------------------------------------------------------------------------\n",
            "Intercept    152.1335      2.576     59.061      0.000     147.071     157.196\n",
            "age          -10.0122     59.749     -0.168      0.867    -127.448     107.424\n",
            "sex         -239.8191     61.222     -3.917      0.000    -360.151    -119.488\n",
            "bmi          519.8398     66.534      7.813      0.000     389.069     650.610\n",
            "bp           324.3904     65.422      4.958      0.000     195.805     452.976\n",
            "s1          -792.1842    416.684     -1.901      0.058   -1611.169      26.801\n",
            "s2           476.7458    339.035      1.406      0.160    -189.621    1143.113\n",
            "s3           101.0446    212.533      0.475      0.635    -316.685     518.774\n",
            "s4           177.0642    161.476      1.097      0.273    -140.313     494.442\n",
            "s5           751.2793    171.902      4.370      0.000     413.409    1089.150\n",
            "s6            67.6254     65.984      1.025      0.306     -62.065     197.316\n",
            "==============================================================================\n",
            "Omnibus:                        1.506   Durbin-Watson:                   2.029\n",
            "Prob(Omnibus):                  0.471   Jarque-Bera (JB):                1.404\n",
            "Skew:                           0.017   Prob(JB):                        0.496\n",
            "Kurtosis:                       2.726   Cond. No.                         227.\n",
            "==============================================================================\n",
            "\n",
            "Warnings:\n",
            "[1] Standard Errors assume that the covariance matrix of the errors is correctly specified.\n"
          ]
        }
      ]
    },
    {
      "cell_type": "markdown",
      "source": [
        "**Resposta:** "
      ],
      "metadata": {
        "id": "UrQeYRJ0hxj9"
      }
    },
    {
      "cell_type": "markdown",
      "source": [
        "O p-valor testa a hipótese nula, i.e., a hipótese de o coeficiente associado àquela variável ser igual a zero, não contribuindo para o ajuste da equação. Assim, baixos p-valores ($<0.05$) indicam que você pode rejeitar a hipótese nula, enquanto valores muito grandes indicam que o preditor não se relaciona com alterações na resposta.\n",
        "\n",
        "Portanto, os preditores relevantes para a resposta são aqueles com p-valor $<$ 0.05, sendo estes: sex, bmi, bp, s5. Além disso, o coeficiente $β_0$ também é significativo.\n",
        "\n",
        "No exercício anterior, apontamos que as variáveis bmi e s5 eram as que estavam mais fortemente correlacionadas com a variável alvo e, como era de se esperar, na regressão múltipla elas também desempenharam papel relevante. Apesar disso, o preditor sex que não demonstrou uma relação de linearidade com a variável resposta no modelo linear, mostrou ter relevância na regressão múltipla, assim como a variável bp que apresentava uma relação de linearidade com a resposta. As demais variáveis não contribuiram de forma significativa. "
      ],
      "metadata": {
        "id": "WYrKbQNlMBCv"
      }
    },
    {
      "cell_type": "markdown",
      "source": [
        "b) Realize o procedimento de ir retirando um preditor de cada vez, começando com aqueles com menor valor na estatística t. Siga o procedimento até que o R² do modelo comece a ser mais fortemente impactado. Discuta o modelo final e como ele se compara com o modelo inicial."
      ],
      "metadata": {
        "id": "wdmCKXtwM8fE"
      }
    },
    {
      "cell_type": "code",
      "source": [
        "t_values = results.tvalues.sort_values(ascending=False)\n",
        "t_values # Lembrem de olhar para o MÓDULO do t"
      ],
      "metadata": {
        "colab": {
          "base_uri": "https://localhost:8080/"
        },
        "id": "lUfgdR8b_qTC",
        "outputId": "9560164d-5513-405b-ff32-b0561bd48ec1"
      },
      "execution_count": null,
      "outputs": [
        {
          "output_type": "execute_result",
          "data": {
            "text/plain": [
              "Intercept    59.061427\n",
              "bmi           7.813196\n",
              "bp            4.958435\n",
              "s5            4.370394\n",
              "s2            1.406187\n",
              "s4            1.096538\n",
              "s6            1.024872\n",
              "s3            0.475431\n",
              "age          -0.167570\n",
              "s1           -1.901163\n",
              "sex          -3.917184\n",
              "dtype: float64"
            ]
          },
          "metadata": {},
          "execution_count": 8
        }
      ]
    },
    {
      "cell_type": "code",
      "source": [
        "Labels = ['age', 's3', 's6', 's4', 's2', 's1'] # Removemos as variáveis que impactam fortemente o modelo (segundo análise anterior)\n",
        "model = 'Target ~ age + s3 + s6 + s4 + s2 + s1 + sex + s5 + bp + bmi'\n",
        "\n",
        "for var in Labels:\n",
        "  r = var + ' +'\n",
        "  model = model.replace(r, '')\n",
        "  results = smf.ols(model, data=df).fit()\n",
        "  print(results.summary())"
      ],
      "metadata": {
        "colab": {
          "base_uri": "https://localhost:8080/"
        },
        "id": "aj0JXKOwQscD",
        "outputId": "8ec9e23b-7d0e-44ca-fb71-b6fc59161a6d"
      },
      "execution_count": null,
      "outputs": [
        {
          "output_type": "stream",
          "name": "stdout",
          "text": [
            "                            OLS Regression Results                            \n",
            "==============================================================================\n",
            "Dep. Variable:                 Target   R-squared:                       0.518\n",
            "Model:                            OLS   Adj. R-squared:                  0.508\n",
            "Method:                 Least Squares   F-statistic:                     51.53\n",
            "Date:                Tue, 08 Mar 2022   Prob (F-statistic):           5.24e-63\n",
            "Time:                        22:30:20   Log-Likelihood:                -2386.0\n",
            "No. Observations:                 442   AIC:                             4792.\n",
            "Df Residuals:                     432   BIC:                             4833.\n",
            "Df Model:                           9                                         \n",
            "Covariance Type:            nonrobust                                         \n",
            "==============================================================================\n",
            "                 coef    std err          t      P>|t|      [0.025      0.975]\n",
            "------------------------------------------------------------------------------\n",
            "Intercept    152.1335      2.573     59.128      0.000     147.076     157.191\n",
            "s3            99.7175    212.146      0.470      0.639    -317.249     516.684\n",
            "s6            66.1696     65.336      1.013      0.312     -62.247     194.586\n",
            "s4           177.4582    161.277      1.100      0.272    -139.526     494.443\n",
            "s2           474.3774    338.358      1.402      0.162    -190.656    1139.411\n",
            "s1          -790.8961    416.144     -1.901      0.058   -1608.815      27.023\n",
            "sex         -240.8346     60.853     -3.958      0.000    -360.440    -121.230\n",
            "s5           749.5059    171.383      4.373      0.000     412.658    1086.354\n",
            "bp           322.3058     64.156      5.024      0.000     196.209     448.402\n",
            "bmi          519.9045     66.458      7.823      0.000     389.284     650.525\n",
            "==============================================================================\n",
            "Omnibus:                        1.532   Durbin-Watson:                   2.028\n",
            "Prob(Omnibus):                  0.465   Jarque-Bera (JB):                1.424\n",
            "Skew:                           0.019   Prob(JB):                        0.491\n",
            "Kurtosis:                       2.725   Cond. No.                         227.\n",
            "==============================================================================\n",
            "\n",
            "Warnings:\n",
            "[1] Standard Errors assume that the covariance matrix of the errors is correctly specified.\n",
            "                            OLS Regression Results                            \n",
            "==============================================================================\n",
            "Dep. Variable:                 Target   R-squared:                       0.517\n",
            "Model:                            OLS   Adj. R-squared:                  0.509\n",
            "Method:                 Least Squares   F-statistic:                     58.04\n",
            "Date:                Tue, 08 Mar 2022   Prob (F-statistic):           7.42e-64\n",
            "Time:                        22:30:20   Log-Likelihood:                -2386.1\n",
            "No. Observations:                 442   AIC:                             4790.\n",
            "Df Residuals:                     433   BIC:                             4827.\n",
            "Df Model:                           8                                         \n",
            "Covariance Type:            nonrobust                                         \n",
            "==============================================================================\n",
            "                 coef    std err          t      P>|t|      [0.025      0.975]\n",
            "------------------------------------------------------------------------------\n",
            "Intercept    152.1335      2.571     59.181      0.000     147.081     157.186\n",
            "s6            67.1413     65.245      1.029      0.304     -61.094     195.377\n",
            "s4           127.2162    120.660      1.054      0.292    -109.936     364.368\n",
            "s2           353.9507    220.812      1.603      0.110     -80.046     787.948\n",
            "s1          -620.6526    204.745     -3.031      0.003   -1023.070    -218.235\n",
            "sex         -242.0575     60.743     -3.985      0.000    -361.445    -122.670\n",
            "s5           691.9279    119.754      5.778      0.000     456.556     927.300\n",
            "bp           321.5077     64.076      5.018      0.000     195.570     447.446\n",
            "bmi          518.7810     66.355      7.818      0.000     388.364     649.199\n",
            "==============================================================================\n",
            "Omnibus:                        1.557   Durbin-Watson:                   2.027\n",
            "Prob(Omnibus):                  0.459   Jarque-Bera (JB):                1.442\n",
            "Skew:                           0.019   Prob(JB):                        0.486\n",
            "Kurtosis:                       2.723   Cond. No.                         126.\n",
            "==============================================================================\n",
            "\n",
            "Warnings:\n",
            "[1] Standard Errors assume that the covariance matrix of the errors is correctly specified.\n",
            "                            OLS Regression Results                            \n",
            "==============================================================================\n",
            "Dep. Variable:                 Target   R-squared:                       0.516\n",
            "Model:                            OLS   Adj. R-squared:                  0.508\n",
            "Method:                 Least Squares   F-statistic:                     66.18\n",
            "Date:                Tue, 08 Mar 2022   Prob (F-statistic):           1.48e-64\n",
            "Time:                        22:30:20   Log-Likelihood:                -2386.7\n",
            "No. Observations:                 442   AIC:                             4789.\n",
            "Df Residuals:                     434   BIC:                             4822.\n",
            "Df Model:                           7                                         \n",
            "Covariance Type:            nonrobust                                         \n",
            "==============================================================================\n",
            "                 coef    std err          t      P>|t|      [0.025      0.975]\n",
            "------------------------------------------------------------------------------\n",
            "Intercept    152.1335      2.571     59.177      0.000     147.081     157.186\n",
            "s4           135.2653    120.414      1.123      0.262    -101.403     371.933\n",
            "s2           353.1680    220.826      1.599      0.110     -80.853     787.189\n",
            "s1          -615.0806    204.687     -3.005      0.003   -1017.382    -212.779\n",
            "sex         -236.7221     60.525     -3.911      0.000    -355.681    -117.763\n",
            "s5           705.2985    119.056      5.924      0.000     471.301     939.296\n",
            "bp           333.8348     62.950      5.303      0.000     210.109     457.560\n",
            "bmi          529.0493     65.605      8.064      0.000     400.107     657.992\n",
            "==============================================================================\n",
            "Omnibus:                        1.214   Durbin-Watson:                   2.037\n",
            "Prob(Omnibus):                  0.545   Jarque-Bera (JB):                1.200\n",
            "Skew:                           0.027   Prob(JB):                        0.549\n",
            "Kurtosis:                       2.751   Cond. No.                         126.\n",
            "==============================================================================\n",
            "\n",
            "Warnings:\n",
            "[1] Standard Errors assume that the covariance matrix of the errors is correctly specified.\n",
            "                            OLS Regression Results                            \n",
            "==============================================================================\n",
            "Dep. Variable:                 Target   R-squared:                       0.515\n",
            "Model:                            OLS   Adj. R-squared:                  0.508\n",
            "Method:                 Least Squares   F-statistic:                     76.95\n",
            "Date:                Tue, 08 Mar 2022   Prob (F-statistic):           3.01e-65\n",
            "Time:                        22:30:20   Log-Likelihood:                -2387.3\n",
            "No. Observations:                 442   AIC:                             4789.\n",
            "Df Residuals:                     435   BIC:                             4817.\n",
            "Df Model:                           6                                         \n",
            "Covariance Type:            nonrobust                                         \n",
            "==============================================================================\n",
            "                 coef    std err          t      P>|t|      [0.025      0.975]\n",
            "------------------------------------------------------------------------------\n",
            "Intercept    152.1335      2.572     59.159      0.000     147.079     157.188\n",
            "s2           538.5859    146.738      3.670      0.000     250.182     826.989\n",
            "s1          -757.9379    160.435     -4.724      0.000   -1073.262    -442.614\n",
            "sex         -226.5106     59.857     -3.784      0.000    -344.155    -108.866\n",
            "s5           804.1923     80.173     10.031      0.000     646.617     961.767\n",
            "bp           327.2198     62.693      5.219      0.000     204.001     450.439\n",
            "bmi          529.8730     65.620      8.075      0.000     400.901     658.845\n",
            "==============================================================================\n",
            "Omnibus:                        1.187   Durbin-Watson:                   2.043\n",
            "Prob(Omnibus):                  0.552   Jarque-Bera (JB):                1.172\n",
            "Skew:                           0.016   Prob(JB):                        0.557\n",
            "Kurtosis:                       2.750   Cond. No.                         85.7\n",
            "==============================================================================\n",
            "\n",
            "Warnings:\n",
            "[1] Standard Errors assume that the covariance matrix of the errors is correctly specified.\n",
            "                            OLS Regression Results                            \n",
            "==============================================================================\n",
            "Dep. Variable:                 Target   R-squared:                       0.500\n",
            "Model:                            OLS   Adj. R-squared:                  0.494\n",
            "Method:                 Least Squares   F-statistic:                     87.15\n",
            "Date:                Tue, 08 Mar 2022   Prob (F-statistic):           2.19e-63\n",
            "Time:                        22:30:20   Log-Likelihood:                -2394.0\n",
            "No. Observations:                 442   AIC:                             4800.\n",
            "Df Residuals:                     436   BIC:                             4825.\n",
            "Df Model:                           5                                         \n",
            "Covariance Type:            nonrobust                                         \n",
            "==============================================================================\n",
            "                 coef    std err          t      P>|t|      [0.025      0.975]\n",
            "------------------------------------------------------------------------------\n",
            "Intercept    152.1335      2.608     58.331      0.000     147.007     157.260\n",
            "s1          -216.8433     64.194     -3.378      0.001    -343.012     -90.675\n",
            "sex         -148.3748     56.738     -2.615      0.009    -259.888     -36.862\n",
            "s5           662.1638     71.214      9.298      0.000     522.199     802.129\n",
            "bp           305.0330     63.287      4.820      0.000     180.647     429.419\n",
            "bmi          600.6339     63.615      9.442      0.000     475.603     725.665\n",
            "==============================================================================\n",
            "Omnibus:                        1.839   Durbin-Watson:                   2.055\n",
            "Prob(Omnibus):                  0.399   Jarque-Bera (JB):                1.857\n",
            "Skew:                           0.110   Prob(JB):                        0.395\n",
            "Kurtosis:                       2.771   Cond. No.                         32.4\n",
            "==============================================================================\n",
            "\n",
            "Warnings:\n",
            "[1] Standard Errors assume that the covariance matrix of the errors is correctly specified.\n",
            "                            OLS Regression Results                            \n",
            "==============================================================================\n",
            "Dep. Variable:                 Target   R-squared:                       0.487\n",
            "Model:                            OLS   Adj. R-squared:                  0.482\n",
            "Method:                 Least Squares   F-statistic:                     103.6\n",
            "Date:                Tue, 08 Mar 2022   Prob (F-statistic):           5.42e-62\n",
            "Time:                        22:30:20   Log-Likelihood:                -2399.8\n",
            "No. Observations:                 442   AIC:                             4810.\n",
            "Df Residuals:                     437   BIC:                             4830.\n",
            "Df Model:                           4                                         \n",
            "Covariance Type:            nonrobust                                         \n",
            "==============================================================================\n",
            "                 coef    std err          t      P>|t|      [0.025      0.975]\n",
            "------------------------------------------------------------------------------\n",
            "Intercept    152.1335      2.639     57.648      0.000     146.947     157.320\n",
            "sex         -136.7603     57.304     -2.387      0.017    -249.386     -24.135\n",
            "s5           554.4343     64.427      8.606      0.000     427.808     681.060\n",
            "bp           292.9761     63.935      4.582      0.000     167.318     418.634\n",
            "bmi          598.2793     64.365      9.295      0.000     471.777     724.782\n",
            "==============================================================================\n",
            "Omnibus:                        5.261   Durbin-Watson:                   1.982\n",
            "Prob(Omnibus):                  0.072   Jarque-Bera (JB):                4.282\n",
            "Skew:                           0.145   Prob(JB):                        0.118\n",
            "Kurtosis:                       2.614   Cond. No.                         28.5\n",
            "==============================================================================\n",
            "\n",
            "Warnings:\n",
            "[1] Standard Errors assume that the covariance matrix of the errors is correctly specified.\n"
          ]
        }
      ]
    },
    {
      "cell_type": "markdown",
      "source": [
        "A partir da remoção de s4 o $R^2$ passou a ser impacto mais fortemente. Portanto, vamos considerar como modelo final:"
      ],
      "metadata": {
        "id": "DqyUXQMkaH16"
      }
    },
    {
      "cell_type": "code",
      "source": [
        "results = smf.ols('Target ~  s4 + s1 + sex + s5 + bp + bmi', data=df).fit()\n",
        "print(results.summary())"
      ],
      "metadata": {
        "colab": {
          "base_uri": "https://localhost:8080/"
        },
        "id": "bWezuoEeaWHM",
        "outputId": "d257c161-c3c9-4c07-c2a9-c6254c8516ff"
      },
      "execution_count": null,
      "outputs": [
        {
          "output_type": "stream",
          "name": "stdout",
          "text": [
            "                            OLS Regression Results                            \n",
            "==============================================================================\n",
            "Dep. Variable:                 Target   R-squared:                       0.513\n",
            "Model:                            OLS   Adj. R-squared:                  0.507\n",
            "Method:                 Least Squares   F-statistic:                     76.51\n",
            "Date:                Tue, 08 Mar 2022   Prob (F-statistic):           5.71e-65\n",
            "Time:                        22:30:20   Log-Likelihood:                -2388.0\n",
            "No. Observations:                 442   AIC:                             4790.\n",
            "Df Residuals:                     435   BIC:                             4819.\n",
            "Df Model:                           6                                         \n",
            "Covariance Type:            nonrobust                                         \n",
            "==============================================================================\n",
            "                 coef    std err          t      P>|t|      [0.025      0.975]\n",
            "------------------------------------------------------------------------------\n",
            "Intercept    152.1335      2.575     59.072      0.000     147.072     157.195\n",
            "s4           279.2124     80.134      3.484      0.001     121.715     436.710\n",
            "s1          -306.4788     68.411     -4.480      0.000    -440.936    -172.022\n",
            "sex         -224.9789     60.186     -3.738      0.000    -343.270    -106.688\n",
            "s5           558.9589     76.305      7.325      0.000     408.987     708.930\n",
            "bp           334.4542     63.062      5.304      0.000     210.510     458.398\n",
            "bmi          548.6486     64.565      8.498      0.000     421.750     675.547\n",
            "==============================================================================\n",
            "Omnibus:                        1.519   Durbin-Watson:                   2.032\n",
            "Prob(Omnibus):                  0.468   Jarque-Bera (JB):                1.487\n",
            "Skew:                           0.065   Prob(JB):                        0.475\n",
            "Kurtosis:                       2.748   Cond. No.                         38.5\n",
            "==============================================================================\n",
            "\n",
            "Warnings:\n",
            "[1] Standard Errors assume that the covariance matrix of the errors is correctly specified.\n"
          ]
        }
      ]
    },
    {
      "cell_type": "markdown",
      "source": [
        "Também é interessante notar que a remoção dos atributos que apresentam colinearidade entre si s1 e s2 não impactou fortemente o desempenho do modelo. "
      ],
      "metadata": {
        "id": "SzgvsT_UCeNn"
      }
    },
    {
      "cell_type": "markdown",
      "source": [
        "### Exercício 2.3 - Extensões da Regressão Linear [2 pontos]\n",
        "\n",
        "Tentaremos agora utilizar extensões da Regressão Linear para melhorar nossos ajustes.\n",
        "\n",
        "a) No item 2.1-b vimos que alguns preditores não parecem ter uma relação de linearidade com a resposta. Para os casos identificados neste item, tente encontrar alguma transformação que melhora o ajuste do *modelo simples* (apenas com uma variável). Descreva quais transformações vocês tentou realizar e se foi obtida uma melhora no ajuste."
      ],
      "metadata": {
        "id": "47JHa40OS37A"
      }
    },
    {
      "cell_type": "markdown",
      "source": [
        "**Resposta:** "
      ],
      "metadata": {
        "id": "PZZ3siyMd3ne"
      }
    },
    {
      "cell_type": "markdown",
      "source": [
        "**Guia de avaliação:**\n",
        "\n",
        "\n",
        "\n",
        "*   Descrição das transformações. Foram realizadas ao menos três tentativas de transformação? (0.5 pontos)\n",
        "*   Interpretação do resultado.\n",
        "  * Para cada uma das transformações aplicada no item (a) (0.5 pontos)\n",
        "  * Para o resultado obtido através da regressão linear múltipla no item (b) (1 pontos). Este ponto deve ser distribuído da seguinte forma:\n",
        "      * Discutiu-se à relevância de cada preditor, incluindo o da transformação, através do p-valor e de t (0.5 pontos)\n",
        "      * Discutiu-se a qualidade do ajuste (0.5 pontos)\n",
        "\n"
      ],
      "metadata": {
        "id": "N5QFPoKXC2ms"
      }
    },
    {
      "cell_type": "markdown",
      "source": [
        "**Exemplos de transformações:**"
      ],
      "metadata": {
        "id": "kzAS8M3Vnon4"
      }
    },
    {
      "cell_type": "markdown",
      "source": [
        "i. Interação entre variáveis"
      ],
      "metadata": {
        "id": "k81RGonOof4Z"
      }
    },
    {
      "cell_type": "markdown",
      "source": [
        "**Justificativa:** estas variáveis apresentam uma multicolinearidade, então parece interessante substituir a relação entre estas variáveis por uma única variável. "
      ],
      "metadata": {
        "id": "l2fJAVUPrAvg"
      }
    },
    {
      "cell_type": "code",
      "source": [
        "v = df['s2']/df['s1']\n",
        "results = smf.ols('Target ~ v', data=df).fit()\n",
        "print(results.summary())"
      ],
      "metadata": {
        "colab": {
          "base_uri": "https://localhost:8080/"
        },
        "id": "U9HvGgZ8okxj",
        "outputId": "628c3439-ef2a-46cd-aa15-7c3c410737b2"
      },
      "execution_count": null,
      "outputs": [
        {
          "output_type": "stream",
          "name": "stdout",
          "text": [
            "                            OLS Regression Results                            \n",
            "==============================================================================\n",
            "Dep. Variable:                 Target   R-squared:                       0.005\n",
            "Model:                            OLS   Adj. R-squared:                  0.003\n",
            "Method:                 Least Squares   F-statistic:                     2.137\n",
            "Date:                Tue, 08 Mar 2022   Prob (F-statistic):              0.144\n",
            "Time:                        22:33:17   Log-Likelihood:                -2546.1\n",
            "No. Observations:                 442   AIC:                             5096.\n",
            "Df Residuals:                     440   BIC:                             5104.\n",
            "Df Model:                           1                                         \n",
            "Covariance Type:            nonrobust                                         \n",
            "==============================================================================\n",
            "                 coef    std err          t      P>|t|      [0.025      0.975]\n",
            "------------------------------------------------------------------------------\n",
            "Intercept    153.1648      3.730     41.068      0.000     145.835     160.495\n",
            "v             -0.6945      0.475     -1.462      0.144      -1.628       0.239\n",
            "==============================================================================\n",
            "Omnibus:                       59.632   Durbin-Watson:                   1.920\n",
            "Prob(Omnibus):                  0.000   Jarque-Bera (JB):               27.727\n",
            "Skew:                           0.434   Prob(JB):                     9.53e-07\n",
            "Kurtosis:                       2.132   Cond. No.                         8.00\n",
            "==============================================================================\n",
            "\n",
            "Warnings:\n",
            "[1] Standard Errors assume that the covariance matrix of the errors is correctly specified.\n"
          ]
        }
      ]
    },
    {
      "cell_type": "markdown",
      "source": [
        "ii. Elevar a variável ao quadrado/cubo:"
      ],
      "metadata": {
        "id": "ShR4IgqvovtB"
      }
    },
    {
      "cell_type": "markdown",
      "source": [
        "**Justificativa:** esta preditor parecia poder ser ajustado por uma relação quadrática. "
      ],
      "metadata": {
        "id": "0nd6ol4FrbqJ"
      }
    },
    {
      "cell_type": "code",
      "source": [
        "v = df['bp']**2\n",
        "results = smf.ols('Target ~ v', data=df).fit()\n",
        "print(results.summary())"
      ],
      "metadata": {
        "colab": {
          "base_uri": "https://localhost:8080/"
        },
        "id": "6X5X4OddnsRz",
        "outputId": "016f90e5-0006-4cdd-a1bc-da820097503f"
      },
      "execution_count": null,
      "outputs": [
        {
          "output_type": "stream",
          "name": "stdout",
          "text": [
            "                            OLS Regression Results                            \n",
            "==============================================================================\n",
            "Dep. Variable:                 Target   R-squared:                       0.025\n",
            "Model:                            OLS   Adj. R-squared:                  0.023\n",
            "Method:                 Least Squares   F-statistic:                     11.51\n",
            "Date:                Tue, 08 Mar 2022   Prob (F-statistic):           0.000755\n",
            "Time:                        22:41:13   Log-Likelihood:                -2541.5\n",
            "No. Observations:                 442   AIC:                             5087.\n",
            "Df Residuals:                     440   BIC:                             5095.\n",
            "Df Model:                           1                                         \n",
            "Covariance Type:            nonrobust                                         \n",
            "==============================================================================\n",
            "                 coef    std err          t      P>|t|      [0.025      0.975]\n",
            "------------------------------------------------------------------------------\n",
            "Intercept    141.9567      4.704     30.176      0.000     132.711     151.202\n",
            "v           4498.1364   1325.812      3.393      0.001    1892.425    7103.848\n",
            "==============================================================================\n",
            "Omnibus:                       53.644   Durbin-Watson:                   1.932\n",
            "Prob(Omnibus):                  0.000   Jarque-Bera (JB):               23.970\n",
            "Skew:                           0.379   Prob(JB):                     6.24e-06\n",
            "Kurtosis:                       2.147   Cond. No.                         366.\n",
            "==============================================================================\n",
            "\n",
            "Warnings:\n",
            "[1] Standard Errors assume that the covariance matrix of the errors is correctly specified.\n"
          ]
        }
      ]
    },
    {
      "cell_type": "markdown",
      "source": [
        "iii. Geração de um polinômio:"
      ],
      "metadata": {
        "id": "rFUg5ly0o42H"
      }
    },
    {
      "cell_type": "markdown",
      "source": [
        "**Justificativa:** este preditor parece poder ser ajustado por uma relação quadrática. "
      ],
      "metadata": {
        "id": "aQHJ8M8Hr4YE"
      }
    },
    {
      "cell_type": "code",
      "source": [
        "v = df['s5'] + df['s5']**2\n",
        "results = smf.ols('Target ~ v', data=df).fit()\n",
        "print(results.summary())"
      ],
      "metadata": {
        "colab": {
          "base_uri": "https://localhost:8080/"
        },
        "id": "9_-OWhFNoWYc",
        "outputId": "bca992f5-4382-401e-e451-001e1b593451"
      },
      "execution_count": null,
      "outputs": [
        {
          "output_type": "stream",
          "name": "stdout",
          "text": [
            "                            OLS Regression Results                            \n",
            "==============================================================================\n",
            "Dep. Variable:                 Target   R-squared:                       0.316\n",
            "Model:                            OLS   Adj. R-squared:                  0.314\n",
            "Method:                 Least Squares   F-statistic:                     203.3\n",
            "Date:                Tue, 08 Mar 2022   Prob (F-statistic):           3.45e-38\n",
            "Time:                        22:41:55   Log-Likelihood:                -2463.2\n",
            "No. Observations:                 442   AIC:                             4930.\n",
            "Df Residuals:                     440   BIC:                             4939.\n",
            "Df Model:                           1                                         \n",
            "Covariance Type:            nonrobust                                         \n",
            "==============================================================================\n",
            "                 coef    std err          t      P>|t|      [0.025      0.975]\n",
            "------------------------------------------------------------------------------\n",
            "Intercept    150.1065      3.039     49.386      0.000     144.133     156.080\n",
            "v            895.9428     62.838     14.258      0.000     772.443    1019.442\n",
            "==============================================================================\n",
            "Omnibus:                       11.812   Durbin-Watson:                   1.979\n",
            "Prob(Omnibus):                  0.003   Jarque-Bera (JB):               12.315\n",
            "Skew:                           0.396   Prob(JB):                      0.00212\n",
            "Kurtosis:                       2.796   Cond. No.                         20.7\n",
            "==============================================================================\n",
            "\n",
            "Warnings:\n",
            "[1] Standard Errors assume that the covariance matrix of the errors is correctly specified.\n"
          ]
        }
      ]
    },
    {
      "cell_type": "markdown",
      "source": [
        "Para nenhum dos testes aplicados foi obtida uma melhora do ajuste do modelo simples. \n",
        "\n",
        "Para a interação entre os preditores s1 e s2 o ajuste linear foi reduzido e o p-valor maior que para ambas as variáveis individualmente, indicando que não houve contribuição significativa para a resposta do modelo. A estatistica t foi menor que a obtida para os preditores separadamente e o valor para o intercept não variou.\n",
        "\n",
        "Para o preditor bp, o ajuste linear foi reduzido e o p valor aumento, indicando uma maior probabilidade de o valor ser obtido ao acaso, mas ainda pequeno o suficiente para considerar o preditor significativo para a resposta obtida. O valor da estatística t foi reduzida para o preditor e o intercept. \n",
        "\n",
        "Não houve qualquer alteração no p-valor para a transformação aplicada ao preditor s5, indicando que a variável contribuiu para a resposta do modelo, mas o valor de t aumentou em módulo tanto para o intercept, quanto para o preditor transformado. "
      ],
      "metadata": {
        "id": "gh8jKtVvqLy1"
      }
    },
    {
      "cell_type": "markdown",
      "source": [
        "\n",
        "b) Treine o modelo de regressão linear múltipla com os preditores usando as transformações do item (a). Discuta o resultado obtido com relação à relevância de cada preditor e qualidade do ajuste. "
      ],
      "metadata": {
        "id": "7n1nXWEwvXeg"
      }
    },
    {
      "cell_type": "code",
      "source": [
        "v = df['s2']/df['s1']\n",
        "results = smf.ols('Target ~ age + sex + bmi + bp + v + s3 + s4 + s5 + s6', data=df).fit()\n",
        "print(results.summary())"
      ],
      "metadata": {
        "colab": {
          "base_uri": "https://localhost:8080/"
        },
        "id": "TX6QFBaZvYiv",
        "outputId": "7d591c39-c3e3-4b46-f6df-f830c0512ccc"
      },
      "execution_count": null,
      "outputs": [
        {
          "output_type": "stream",
          "name": "stdout",
          "text": [
            "                            OLS Regression Results                            \n",
            "==============================================================================\n",
            "Dep. Variable:                 Target   R-squared:                       0.511\n",
            "Model:                            OLS   Adj. R-squared:                  0.501\n",
            "Method:                 Least Squares   F-statistic:                     50.17\n",
            "Date:                Tue, 08 Mar 2022   Prob (F-statistic):           9.76e-62\n",
            "Time:                        23:16:08   Log-Likelihood:                -2389.0\n",
            "No. Observations:                 442   AIC:                             4798.\n",
            "Df Residuals:                     432   BIC:                             4839.\n",
            "Df Model:                           9                                         \n",
            "Covariance Type:            nonrobust                                         \n",
            "==============================================================================\n",
            "                 coef    std err          t      P>|t|      [0.025      0.975]\n",
            "------------------------------------------------------------------------------\n",
            "Intercept    152.0766      2.640     57.614      0.000     146.889     157.265\n",
            "age          -15.8706     59.866     -0.265      0.791    -133.535     101.794\n",
            "sex         -232.5296     61.498     -3.781      0.000    -353.402    -111.658\n",
            "bmi          518.5360     66.538      7.793      0.000     387.757     649.315\n",
            "bp           314.9259     65.720      4.792      0.000     185.755     444.097\n",
            "v              0.0383      0.341      0.113      0.910      -0.631       0.708\n",
            "s3          -347.1141     85.187     -4.075      0.000    -514.546    -179.682\n",
            "s4          -110.8700     96.820     -1.145      0.253    -301.167      79.427\n",
            "s5           499.6549     76.750      6.510      0.000     348.804     650.505\n",
            "s6            66.9118     66.519      1.006      0.315     -63.829     197.652\n",
            "==============================================================================\n",
            "Omnibus:                        2.319   Durbin-Watson:                   2.001\n",
            "Prob(Omnibus):                  0.314   Jarque-Bera (JB):                1.967\n",
            "Skew:                           0.033   Prob(JB):                        0.374\n",
            "Kurtosis:                       2.680   Cond. No.                         367.\n",
            "==============================================================================\n",
            "\n",
            "Warnings:\n",
            "[1] Standard Errors assume that the covariance matrix of the errors is correctly specified.\n"
          ]
        }
      ]
    },
    {
      "cell_type": "markdown",
      "source": [
        "Podemos notar pelo p-valor que o preditor v dado pela transformação das variáveis s1 e s2 não teve uma contribuição significativa para a resposta. "
      ],
      "metadata": {
        "id": "17RfxEx5vzC9"
      }
    },
    {
      "cell_type": "code",
      "source": [
        "v = df['bp']**2\n",
        "results = smf.ols('Target ~ age + sex + bmi + v + s1 + s2 + s3 + s4 + s5 + s6', data=df).fit()\n",
        "print(results.summary())"
      ],
      "metadata": {
        "colab": {
          "base_uri": "https://localhost:8080/"
        },
        "id": "oQMcAhZIv8Oz",
        "outputId": "ccd65c21-dce0-4a9b-d510-9f20a2782bbb"
      },
      "execution_count": null,
      "outputs": [
        {
          "output_type": "stream",
          "name": "stdout",
          "text": [
            "                            OLS Regression Results                            \n",
            "==============================================================================\n",
            "Dep. Variable:                 Target   R-squared:                       0.496\n",
            "Model:                            OLS   Adj. R-squared:                  0.485\n",
            "Method:                 Least Squares   F-statistic:                     42.48\n",
            "Date:                Tue, 08 Mar 2022   Prob (F-statistic):           3.71e-58\n",
            "Time:                        23:15:41   Log-Likelihood:                -2395.6\n",
            "No. Observations:                 442   AIC:                             4813.\n",
            "Df Residuals:                     431   BIC:                             4858.\n",
            "Df Model:                          10                                         \n",
            "Covariance Type:            nonrobust                                         \n",
            "==============================================================================\n",
            "                 coef    std err          t      P>|t|      [0.025      0.975]\n",
            "------------------------------------------------------------------------------\n",
            "Intercept    147.0562      3.441     42.736      0.000     140.293     153.819\n",
            "age           47.6322     59.948      0.795      0.427     -70.194     165.458\n",
            "sex         -171.2699     61.642     -2.778      0.006    -292.426     -50.114\n",
            "bmi          587.8613     66.177      8.883      0.000     457.792     717.931\n",
            "v           2244.1801    979.554      2.291      0.022     318.882    4169.478\n",
            "s1          -709.6462    425.532     -1.668      0.096   -1546.023     126.731\n",
            "s2           443.8141    346.384      1.281      0.201    -236.997    1124.626\n",
            "s3            58.7075    217.098      0.270      0.787    -367.995     485.410\n",
            "s4           104.0674    164.335      0.633      0.527    -218.930     427.065\n",
            "s5           790.5993    175.432      4.507      0.000     445.790    1135.408\n",
            "s6           106.9189     66.803      1.601      0.110     -24.381     238.219\n",
            "==============================================================================\n",
            "Omnibus:                        3.261   Durbin-Watson:                   1.965\n",
            "Prob(Omnibus):                  0.196   Jarque-Bera (JB):                2.702\n",
            "Skew:                           0.083   Prob(JB):                        0.259\n",
            "Kurtosis:                       2.654   Cond. No.                         372.\n",
            "==============================================================================\n",
            "\n",
            "Warnings:\n",
            "[1] Standard Errors assume that the covariance matrix of the errors is correctly specified.\n"
          ]
        }
      ]
    },
    {
      "cell_type": "markdown",
      "source": [
        "Neste caso, podemos notar pelo p-valor que apesar de ele ter aumentado, dado o limiar estabelecido, podemos continuar afirmando que o preditor contribui para a resposta final. A estatística t associada a transformação foi menor que a apresentada para o preditor original. Além disso, o ajuste linear foi pior. "
      ],
      "metadata": {
        "id": "DigeOq5Gv8z8"
      }
    },
    {
      "cell_type": "code",
      "source": [
        "v = df['s5'] + df['s5']**2\n",
        "results = smf.ols('Target ~ age + sex + bmi + bp + s1 + s2 + s3 + s4 + v + s6', data=df).fit()\n",
        "print(results.summary())"
      ],
      "metadata": {
        "colab": {
          "base_uri": "https://localhost:8080/"
        },
        "id": "q4WsEP2MzO_M",
        "outputId": "00bd851b-eaeb-42b3-9169-c52ae8dc6a70"
      },
      "execution_count": null,
      "outputs": [
        {
          "output_type": "stream",
          "name": "stdout",
          "text": [
            "                            OLS Regression Results                            \n",
            "==============================================================================\n",
            "Dep. Variable:                 Target   R-squared:                       0.519\n",
            "Model:                            OLS   Adj. R-squared:                  0.508\n",
            "Method:                 Least Squares   F-statistic:                     46.56\n",
            "Date:                Tue, 08 Mar 2022   Prob (F-statistic):           1.92e-62\n",
            "Time:                        23:11:40   Log-Likelihood:                -2385.3\n",
            "No. Observations:                 442   AIC:                             4793.\n",
            "Df Residuals:                     431   BIC:                             4838.\n",
            "Df Model:                          10                                         \n",
            "Covariance Type:            nonrobust                                         \n",
            "==============================================================================\n",
            "                 coef    std err          t      P>|t|      [0.025      0.975]\n",
            "------------------------------------------------------------------------------\n",
            "Intercept    150.0557      2.612     57.446      0.000     144.922     155.190\n",
            "age           -9.8975     59.642     -0.166      0.868    -127.124     107.329\n",
            "sex         -240.9765     61.121     -3.943      0.000    -361.109    -120.844\n",
            "bmi          516.1716     66.495      7.763      0.000     385.477     646.866\n",
            "bp           323.9460     65.313      4.960      0.000     195.573     452.319\n",
            "s1         -1244.1829    494.530     -2.516      0.012   -2216.174    -272.192\n",
            "s2           869.2891    407.645      2.132      0.034      68.070    1670.508\n",
            "s3           271.6940    236.392      1.149      0.251    -192.931     736.319\n",
            "s4           178.6320    161.196      1.108      0.268    -138.197     495.461\n",
            "v            918.3832    202.480      4.536      0.000     520.413    1316.354\n",
            "s6            67.1851     65.867      1.020      0.308     -62.275     196.646\n",
            "==============================================================================\n",
            "Omnibus:                        1.315   Durbin-Watson:                   2.030\n",
            "Prob(Omnibus):                  0.518   Jarque-Bera (JB):                1.265\n",
            "Skew:                           0.014   Prob(JB):                        0.531\n",
            "Kurtosis:                       2.739   Cond. No.                         271.\n",
            "==============================================================================\n",
            "\n",
            "Warnings:\n",
            "[1] Standard Errors assume that the covariance matrix of the errors is correctly specified.\n"
          ]
        }
      ]
    },
    {
      "cell_type": "markdown",
      "source": [
        "Neste último caso, apesar do ajuste linear ter sido prejudicado na regressão de uma variável, para múltiplas variáveis houve um aumento no $R^2$, indicando que uma parte maior da variância pode ser explicada pelos preditores. O valor da estatística t aumentou de forma sútil e o p-valor se manteve o mesmo, indicando que a variável contribuiu de forma significativa para a resposta obtida. As estatísticas dos demais preditores apresentaram variação, mas uma variação pequena e que não mudou a relevância do preditor. "
      ],
      "metadata": {
        "id": "-va-jz2-zeHJ"
      }
    },
    {
      "cell_type": "markdown",
      "source": [
        "\n",
        "\n",
        "---\n",
        "\n"
      ],
      "metadata": {
        "id": "y_A510aaBO9_"
      }
    }
  ]
}