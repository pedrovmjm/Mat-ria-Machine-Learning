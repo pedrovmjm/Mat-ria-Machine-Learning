{
  "cells": [
    {
      "cell_type": "markdown",
      "metadata": {
        "id": "BydSXFDA8NIw"
      },
      "source": [
        "Nesta atividade vocês irão aplicar os mesmos conceitos de validação cruzada, seleção de variáveis e regularização vistos em aula, mas agora em um modelo de classificação. "
      ]
    },
    {
      "cell_type": "markdown",
      "metadata": {
        "id": "dyntNktW8Rm4"
      },
      "source": [
        "## 1. Parte Teórica"
      ]
    },
    {
      "cell_type": "markdown",
      "metadata": {
        "id": "EWGuiLsyMDgC"
      },
      "source": [
        "### 1.1 Validação Cruzada (2 pontos)\n",
        "\n",
        "a) Explique, usando suas palavras, quais as diferenças e vantagens em usar uma validação cruzada com 5 divisões (5-fold) para estimar o erro no conjunto de teste, quando comparado à validação simples, com 50% dos dados como conjunto de teste.\n",
        "\n",
        "Considere aspectos como tempo de execução, variabilidade nas estimativas e viés do modelo treinado."
      ]
    },
    {
      "cell_type": "markdown",
      "metadata": {
        "id": "18C9b4Olh-c8"
      },
      "source": [
        "***Resposta:***\n",
        "\n",
        "\n",
        "A **validação simples**, apesar de simples e fácil de executar, tem duas desvantagens: primeiro, a estimativa do erro de teste é muito variável dependendo de quais observações aparecem no conjunto de treinamento e quais aparecem no conjunto de validação; segundo, como apenas uma parte do conjunto de dados disponível é utilizada para treinar o modelo, isso pode fazer com que a estimação do erro de teste seja superestimada.\n",
        "\n",
        "Ao utilizarmos a **validação cruzada** conseguimos suprir essas duas desvantagens da validação simples. Primeiro porque o método garante que todos os dados serão utilizados tanto para treinamento de modelos, quanto para estimar o erro de teste. No caso de $k=5$ (sendo $k$ o número de folds), ao todo cinco modelos serão treinados e testados. A estimativa final é dada pela media das estimativas de cada iteração do algoritmo. Assim, mesmo que executemos a validação cruzada diversas vezes, pela media, a variabilidade nas estimativas será menor do que na validação simples.  \n",
        "\n",
        "Este método também diminui o viés do modelo treinado, dado que os modelos são treinados com 80% dos dados disponíveis, ao invés de apenas 50% da validação simples.\n",
        "\n",
        "Em relação ao tempo de execução a validação cruzada é em média $k$ vezes mais demorada do que a validação simples."
      ]
    },
    {
      "cell_type": "markdown",
      "metadata": {
        "id": "zOAl-u5mJ40o"
      },
      "source": [
        " "
      ]
    },
    {
      "cell_type": "markdown",
      "metadata": {
        "id": "NH8l3LgtJ40o"
      },
      "source": [
        "b) Em um conjunto com 100 exemplos, quais as vantagens e desvantagens de usarmos a validação cruzada com 5 divisões com relação ao Leave-One-Out (LOO)?\n"
      ]
    },
    {
      "cell_type": "markdown",
      "metadata": {
        "id": "wNNo_tFOiNU8"
      },
      "source": [
        "***Resposta:***"
      ]
    },
    {
      "cell_type": "markdown",
      "metadata": {
        "id": "kR6IC03UJ40p"
      },
      "source": [
        "**Vantagens da Validação Cruzada**\n",
        "- No LOO teremos 100 modelos treinados, enquanto no CV teremos 5 modelos. Se o modelo utilizado for muito complexo, o LOO pode levar tempo demais de computação.\n",
        "\n",
        "\n",
        "**Desvantagens**\n",
        "- Os modelos utilizados em uma CV são treinados com menos dados do que os modelos treinados no LOO. Portanto, LOO gera resultados menos enviesados do que a CV\n",
        "- (opcional) Ao rodar a CV múltiplas vezes, com diferentes sementes para divisão dos conjuntos de teste e validação, o resultado irá variar entre execuções. Já o LOO produz sempre o mesmo resultado. \n",
        "\n",
        "***Correção:*** O item marcado como opcional não precisa estar na resposta para ela ser considerada correta."
      ]
    },
    {
      "cell_type": "markdown",
      "metadata": {
        "id": "43TlSLTTNo0B"
      },
      "source": [
        "### 1.2 Seleção de Variáveis e Regularização (2 pontos)\n",
        "\n",
        "a) Compare, usando suas palavras, a regressão ridge e a lasso. Discuta (i) sua formulação, (ii) o que ocorre com os coeficientes dos preditores e (iii) quando cada uma delas é vantajosa\n"
      ]
    },
    {
      "cell_type": "markdown",
      "metadata": {
        "id": "S6JLeYBZiOvZ"
      },
      "source": [
        "***Resposta:***"
      ]
    },
    {
      "cell_type": "markdown",
      "metadata": {
        "id": "0pmGKvwYJ40s"
      },
      "source": [
        "O objetivo da **regressão ridge** é encontrar coeficientes $\\beta$ que minimizem a soma dos quadradados dos resíduos, enquanto utiliza um penalizador que pode levar os valores dos coeficientes bem perto de zero. Sua fórmula utiliza dois termos: a soma dos quadrados dos resíduos (RSS) e uma penalidade de encolhimento, composta por um parametro de afinação $\\lambda$ e a soma dos quadrados dos coeficientes (com exceção do $\\beta_0$) : \n",
        "\n",
        "$$ RSS + \\lambda \\sum\\limits_{j=1}^{p} \\beta_{j}^{2}$$\n",
        "\n",
        "Quando $\\lambda = 0$ a penalidade perde efeito, ao passo que, quanto mais $\\lambda$ tende ao infinito, mais os coeficientes se aproximam de zero. Porém, os coeficientes são exatamente iguais a zero apenas quando $\\lambda = \\infty$. E neste caso, todos os coeficientes serão iguais a zero, gerando um modelo sem preditores.\n",
        "\n",
        "A regressão ridge funciona bem em situações onde a função resposta tem muito preditores e todos com coeficientes proximos de zero.\n",
        "\n",
        "\n",
        "**Lasso:**\n",
        "\n",
        "O objetivo da **lasso** é o mesmo da regressão ridge, encontrar coeficientes $\\beta$ que minimizem a soma dos quadradados dos resíduos, enquanto utiliza um penalizador que pode levar os valores dos coeficientes bem perto de zero. Entretanto, a penalidade aplicada na lasso pode forçar a estimativa de alguns coeficientes a serem exatamente iguais a zero quando o parâmetro $\\lambda$ for alto o suficiente. Sua fórmula é:\n",
        "\n",
        "$$ RSS + \\lambda \\sum\\limits_{j=1}^{p} |\\beta_{j}|$$\n",
        "\n",
        "A lasso gera modelos mais simples e interpretáveis, além de poder realizar selação de variáveis. É esperado que funcione melhor em casos onde poucos preditores tenham coeficientes significativos podendo ser igual a zero."
      ]
    },
    {
      "cell_type": "markdown",
      "metadata": {
        "id": "UOKRJvs_iQpL"
      },
      "source": [
        "b) Compararemos a seleção de variáveis usando os métodos melhor subconjunto (best subset) e forward stepwise (incremental). \n",
        "\n",
        "No caso de um conjunto de dados com 20 preditores, e considerando que o tempo necessário para treinar e avaliar cada modelo gerado no conjunto de treino é *100ms*, qual será o tempo necessário rodar cada método de seleção de variáveis para todos os $k$ (tamnho dos subconjuntos de variáveis)? \n",
        "\n",
        "*No cálculo, não é preciso considerar o passo final do algoritmo de seleção, que é a etapa do uso de validação cruzada para seleção do $k$.* \n",
        "\n",
        "***Mostre e justifique as contas realizadas***.\n"
      ]
    },
    {
      "cell_type": "markdown",
      "metadata": {
        "id": "3iDJHE9YiPbM"
      },
      "source": [
        "***Resposta:***\n",
        "\n",
        "**Best subset** \n",
        "\n",
        "Seguindo o livro, no best selection treinamos $2^p$ modelos no total, logo:\n",
        "\n",
        "\n",
        "$ 2^{20} = 1.048.576 \\text{ modelos} $\n",
        "\n",
        "$ 1.048.576 * 100 \\text{ ms} =  104.857,6 \\text{ segundos}$\n",
        "\n",
        "**Forward stepwise selection**\n",
        "\n",
        "Seguindo o livro, no best selection treinamos $1 + \\frac{p(p+2)}{2}$ modelos no total, logo:\n",
        "\n",
        "$1 + \\frac{20(20+2)}{2} = 1 + 10(22) = 221$ modelos\n",
        "\n",
        "$ 221 * 100 \\text{ ms} =  22,1 \\text{ segundos}$\n"
      ]
    },
    {
      "cell_type": "markdown",
      "metadata": {
        "id": "jrx9v7y1J40v"
      },
      "source": [
        "***Correção:*** Em casos de pequenas diferenças no resultado, como se um aluno considerar $p*(p-1)/2$ casos para o forward selection, ou $2^p-1$ casos no best subset, pode considerar correto.\n",
        "\n",
        "***Atualização:*** O tempo para avaliar cada conjunto de treino é $100 \\text{ ms}$ e não $200 \\text{ ms}$ como estava anteriormente."
      ]
    },
    {
      "cell_type": "markdown",
      "metadata": {
        "id": "OvHZgVDA8ZEe"
      },
      "source": [
        "## 2. Parte Prática\n",
        "\n",
        "Nesta parte faremos os mesmos passos de seleção de variáveis e regularização que fizemos com o modelo de regressão, mas agora aplicando um modelo de classificação ([Regressão Logística](https://scikit-learn.org/stable/modules/generated/sklearn.linear_model.LogisticRegression.html)).\n",
        "\n",
        "Utilizaremos o conjunto de Breast Cancer do scikit-lean ([link1](https://scikit-learn.org/stable/datasets/toy_dataset.html), [link2](https://scikit-learn.org/stable/modules/generated/sklearn.datasets.load_breast_cancer.html))\n",
        "\n",
        "Estes dados não vem normalizados. Para normalizá-los, utilize os comandos abaixo:\n",
        "\n",
        "```\n",
        "from sklearn.preprocessing import StandardScaler\n",
        "X, y = load_breast_cancer(as_frame=True, return_X_y=True)\n",
        "X1 = StandardScaler().fit_transform(X)\n",
        "X = pd.DataFrame(X1, columns=X.columns)\n",
        "\n",
        "```"
      ]
    },
    {
      "cell_type": "markdown",
      "metadata": {
        "id": "2kSpioNS8xwQ"
      },
      "source": [
        "### 2.1 Seleção de Variáveis com a Regressão Logística (2 pontos)\n",
        "\n",
        "a) Crie uma função `AvaliaModelo`, que recebe como parâmetros o modelo de classificação treinado e os conjuntos de preditores e respostas, e devolve os seguintes erros: acurácia, precisão e cobertura. \n",
        "\n",
        "Em seguida teste a função. Para tal: (i) divida os dados do dataset em treino (80%) e validação (80%) e (ii) treine o modelo com dados de treinamento e imprima o desempenho do modelo (acurácia, precisão, cobertura e f-score) sobre os dados de treinamento e de teste. \n",
        "\n",
        "O F-score mede o equilíbrio entre precisão e cobertura e é uma das medidas mais utilizadas na área de aprendizado de máquina. \n",
        "\n",
        "`F1 = 2 * (precision * recall) / (precision + recall)`\n",
        "\n",
        "Mas informações neste [link](https://scikit-learn.org/stable/modules/generated/sklearn.metrics.f1_score.html)."
      ]
    },
    {
      "cell_type": "code",
      "execution_count": null,
      "metadata": {
        "id": "PgRWt1QqlpZY"
      },
      "outputs": [],
      "source": [
        "import pandas as pd\n",
        "\n",
        "from sklearn.model_selection import train_test_split\n",
        "from sklearn.linear_model import LogisticRegression\n",
        "from sklearn.metrics import accuracy_score, recall_score, precision_score, f1_score\n",
        "\n",
        "from sklearn.datasets import load_breast_cancer\n",
        "from sklearn.preprocessing import StandardScaler\n",
        "X, y = load_breast_cancer(as_frame=True, return_X_y=True)\n",
        "X1 = StandardScaler().fit_transform(X)\n",
        "X = pd.DataFrame(X1, columns=X.columns)"
      ]
    },
    {
      "cell_type": "code",
      "execution_count": null,
      "metadata": {
        "id": "U0kIAW3QJ40y"
      },
      "outputs": [],
      "source": [
        "def calculaF1(precision, recall):\n",
        "    return 2 * (precision * recall) / (precision + recall)\n",
        "\n",
        "def AvaliaModelo(model, X, y, printRes=True):\n",
        "    y_pred = model.predict(X)\n",
        "    \n",
        "    acc = accuracy_score(y, y_pred)\n",
        "    prec = precision_score(y, y_pred)\n",
        "    recall = recall_score(y, y_pred)\n",
        "    f1 = calculaF1(prec, recall)\n",
        "   \n",
        "    if printRes:\n",
        "        print(f\"Acurácia: {acc} \\nPrecisão: {prec} \\nCobertura: {recall} \\nF1-score: {f1}\")\n",
        "    \n",
        "    return acc, prec, recall, f1"
      ]
    },
    {
      "cell_type": "code",
      "execution_count": null,
      "metadata": {
        "id": "tdjuUleAJ40y",
        "outputId": "75124873-9fdc-4072-d1cb-bb0e8a265341"
      },
      "outputs": [
        {
          "name": "stdout",
          "output_type": "stream",
          "text": [
            "Desempenho nos dados de treinamento\n",
            "Acurácia: 0.9868131868131869 \n",
            "Precisão: 0.9861111111111112 \n",
            "Cobertura: 0.993006993006993 \n",
            "F1-score: 0.9895470383275262\n",
            "\n",
            "Desempenho nos dados de validação\n",
            "Acurácia: 0.9736842105263158 \n",
            "Precisão: 0.9722222222222222 \n",
            "Cobertura: 0.9859154929577465 \n",
            "F1-score: 0.979020979020979\n"
          ]
        }
      ],
      "source": [
        "X_train, X_validation, y_train, y_validation = train_test_split(X, y, test_size=0.2, random_state=42)\n",
        "clf = LogisticRegression()\n",
        "clf.fit(X_train, y_train)\n",
        "\n",
        "print(\"Desempenho nos dados de treinamento\")\n",
        "acc, prec, recall, f1 = AvaliaModelo(clf, X_train, y_train)\n",
        "\n",
        "print()\n",
        "print(\"Desempenho nos dados de validação\")\n",
        "acc, prec, recall, f1 = AvaliaModelo(clf, X_validation, y_validation)"
      ]
    },
    {
      "cell_type": "markdown",
      "metadata": {
        "id": "kkfGjqWTpm6T"
      },
      "source": [
        "***Discussão:***\n",
        "\n",
        "O modelo obteve bom desempenho para o conjunto de dados, acertanto tanto casos positivos, quanto casos negativos. Como esperado, a métricas na validação são menores do que no treinamento. \n"
      ]
    },
    {
      "cell_type": "markdown",
      "metadata": {
        "id": "OPBwJGZ3lqAl"
      },
      "source": [
        "b) Implemente uma função `selectBackward` que realiza a seleção retroativa. \n",
        "\n",
        "Em seguida, gere um gráfico contendo 4 linhas (acurácia, precisão e cobertura e f1-score), com o eixo x correspondendo ao número de preditores. Para gerar este gráfico, você deve usar a validação cruzada. Note que o atributo `scoring` pode receber os valores `f1`, `accuracy`, `precision`, e `recall`.\n",
        "\n",
        "Em seguida, discuta os resultados, explicando qual número de preditores você escolheria e o motivo.\n",
        "\n",
        "**Dica:** Para este exercício, você usar como base a função `selectForward` vista na aula 5.2 e o código para gerar os gráficos com validação cruzada. \n"
      ]
    },
    {
      "cell_type": "code",
      "execution_count": null,
      "metadata": {
        "id": "LhUC5NYTJ400"
      },
      "outputs": [],
      "source": [
        "from itertools import combinations\n",
        "from sklearn.model_selection import cross_validate\n",
        "import numpy as np\n",
        "import matplotlib.pyplot as plt"
      ]
    },
    {
      "cell_type": "code",
      "execution_count": null,
      "metadata": {
        "id": "cfIPFWjfJ400"
      },
      "outputs": [],
      "source": [
        "def selectBackward(model, X,y):\n",
        "    bwd_acc   = []\n",
        "    bwd_pair  = []\n",
        "    \n",
        "    predictors = X.columns.to_list()\n",
        "    for k in range(0, len(X.columns)):\n",
        "        print(f\"Execução {k+1}/{len(X.columns)}\")\n",
        "        \n",
        "        if k == 30:\n",
        "            import pdb; pdb.set_trace()\n",
        "        acc_set  = []\n",
        "        best = []\n",
        "        pairs   = []\n",
        "        if len(predictors) > 1:\n",
        "            for i, comb in enumerate(combinations(predictors, len(predictors)-1)):\n",
        "                #print(f\"Combinação {i}/{len(predictors)-1}\")\n",
        "                pair = best + list(comb)\n",
        "                model.fit(X[pair], y)       \n",
        "                acc, _, _, _ = AvaliaModelo(model, X[pair], y, printRes = False)\n",
        "                pairs.append(pair)\n",
        "                acc_set.append(acc)\n",
        "\n",
        "            # Escolhe a melhor\n",
        "            best_pos = np.argmax(acc_set)    \n",
        "            bwd_acc.append( acc_set[best_pos] )    \n",
        "            best = pairs[best_pos]\n",
        "            predictors = best\n",
        "            bwd_pair.append( best )\n",
        "        else:\n",
        "            model.fit(X, y)       \n",
        "            acc, _, _, _ = AvaliaModelo(model, X, y, printRes = False)\n",
        "            bwd_acc.insert(0, acc)\n",
        "            bwd_pair.insert(0, X.columns )\n",
        "            \n",
        "    return bwd_acc, bwd_pair\n"
      ]
    },
    {
      "cell_type": "code",
      "execution_count": null,
      "metadata": {
        "scrolled": true,
        "id": "JCOq-tsYJ401",
        "outputId": "91643362-549c-4947-ad1d-7a40d784c385"
      },
      "outputs": [
        {
          "name": "stdout",
          "output_type": "stream",
          "text": [
            "Execução 1/30\n",
            "Execução 2/30\n",
            "Execução 3/30\n",
            "Execução 4/30\n",
            "Execução 5/30\n",
            "Execução 6/30\n",
            "Execução 7/30\n",
            "Execução 8/30\n",
            "Execução 9/30\n",
            "Execução 10/30\n",
            "Execução 11/30\n",
            "Execução 12/30\n",
            "Execução 13/30\n",
            "Execução 14/30\n",
            "Execução 15/30\n",
            "Execução 16/30\n",
            "Execução 17/30\n",
            "Execução 18/30\n",
            "Execução 19/30\n",
            "Execução 20/30\n",
            "Execução 21/30\n",
            "Execução 22/30\n",
            "Execução 23/30\n",
            "Execução 24/30\n",
            "Execução 25/30\n",
            "Execução 26/30\n",
            "Execução 27/30\n",
            "Execução 28/30\n",
            "Execução 29/30\n",
            "Execução 30/30\n"
          ]
        }
      ],
      "source": [
        "best_acc, best_pair = selectBackward(LogisticRegression(max_iter=1000), X, y)"
      ]
    },
    {
      "cell_type": "code",
      "execution_count": null,
      "metadata": {
        "id": "v9SWE1JVJ402",
        "outputId": "0febb68d-088b-4310-fab3-005512ff27b8"
      },
      "outputs": [
        {
          "data": {
            "image/png": "[encoded data removed]",
            "text/plain": [
              "<Figure size 432x288 with 1 Axes>"
            ]
          },
          "metadata": {
            "needs_background": "light"
          },
          "output_type": "display_data"
        }
      ],
      "source": [
        "best_acc_cv = []\n",
        "best_prec_cv = []\n",
        "best_recall_cv = []\n",
        "best_f1_cv = []\n",
        "for i in range(len(best_pair)):\n",
        "    cv_results = cross_validate(LogisticRegression(max_iter=1000), \n",
        "                                X[best_pair[i]], \n",
        "                                y, \n",
        "                                cv=10, \n",
        "                                scoring=('accuracy','precision','recall','f1'))\n",
        "    best_acc_cv.append( np.mean(cv_results['test_accuracy']) )\n",
        "    best_prec_cv.append( np.mean(cv_results['test_precision']) )\n",
        "    best_recall_cv.append( np.mean(cv_results['test_recall']) )\n",
        "    best_f1_cv.append( np.mean(cv_results['test_f1']) )\n",
        "plt.plot([len(pair) for pair in best_pair], best_acc_cv,\"b*-\", label='accuracy')\n",
        "plt.plot([len(pair) for pair in best_pair], best_prec_cv,\"g*-\", label='precision')\n",
        "plt.plot([len(pair) for pair in best_pair], best_recall_cv,\"y*-\", label='recall')\n",
        "plt.plot([len(pair) for pair in best_pair], best_f1_cv,\"r*-\", label='f1')\n",
        "plt.legend()\n",
        "plt.grid()\n",
        "plt.show()"
      ]
    },
    {
      "cell_type": "markdown",
      "metadata": {
        "id": "VceK4j_mqwJT"
      },
      "source": [
        "***Discussão:***\n",
        "\n",
        "Analisando o gráfico, vemos que com 7 preditores atingimos um nível de desempenho que pouco se altera quando adicionamos mais preditores, para as 4 métricas. Assim, este seria a melhor escolha, pois não temos muitos ganhos em deixar o modelo mais complexo.\n",
        "\n",
        "***Correção:*** Os gráficos serão diferentes para cada aluno. Além disso, neste exemplo, se uma aluno tiver escolhido 9 ou 15 preditores, são escolhas razoáveis, pois estão nos valores máximos de algumas métricas. Neste caso, a resposta também estaria correta.\n",
        "\n"
      ]
    },
    {
      "cell_type": "markdown",
      "metadata": {
        "id": "apvj4J4N83AR"
      },
      "source": [
        "### 2.2 Regularização com a Regressão Logística (2 pontos)\n",
        "\n",
        "a) Compare o uso das regressões ridge e lasso (l2 e l1) para diferentes valores de $\\lambda$. Para tal, construa um gráfico contendo o valor de $\\lambda$ na escala log no eixo x, e o F-score no eixo y. Use validação cruzada para gerar as estimativas.\n",
        "\n",
        "Em seguida, discuta os resultados obtidos, qual método e $\\lambda$ você escolheria e o motivo. \n",
        "\n",
        "**Dica:** Na classe `LogisticRegression` do scikit, o atributo `penalty` pode receber os valores `l1` ou `l2`. Além disso, a função recebe o atributo `C`, que é o inverso do parâmetro de regularização $\\lambda$."
      ]
    },
    {
      "cell_type": "code",
      "execution_count": null,
      "metadata": {
        "id": "N0nCH4dNJ404"
      },
      "outputs": [],
      "source": [
        "from sklearn.linear_model import LogisticRegression"
      ]
    },
    {
      "cell_type": "code",
      "execution_count": null,
      "metadata": {
        "id": "sg21Z_ncJ404",
        "outputId": "f7c64a4f-fd56-492b-b1a6-e7b9645a0def"
      },
      "outputs": [
        {
          "data": {
            "image/png": "[encoded data removed]",
            "text/plain": [
              "<Figure size 1080x360 with 1 Axes>"
            ]
          },
          "metadata": {
            "needs_background": "light"
          },
          "output_type": "display_data"
        }
      ],
      "source": [
        "ridge_l = []\n",
        "lasso_l = []\n",
        "lr_l = []\n",
        "\n",
        "lambdas = [0.0001,0.001,0.01, 0.1, 1, 10, 100]\n",
        "for l in lambdas:\n",
        "    ridge = LogisticRegression(penalty='l2', C=l, max_iter=1000, solver='liblinear')\n",
        "    lasso = LogisticRegression(penalty='l1', C=l, max_iter=1000, solver='liblinear')\n",
        "\n",
        "    cv_results = cross_validate(ridge, X, y, cv=10, scoring=('f1'))\n",
        "    ridge_l.append( np.mean(cv_results['test_score']))  \n",
        "\n",
        "    cv_results = cross_validate(lasso, X, y, cv=10, scoring=('f1'))\n",
        "    lasso_l.append( np.mean(cv_results['test_score']))\n",
        "\n",
        "#plt.plot (ls, lr_l, '-*', label = 'lr')\n",
        "plt.figure(figsize=(15,5))\n",
        "plt.plot (lambdas, ridge_l, 'r-*',label = 'ridge')\n",
        "plt.plot (lambdas, lasso_l, 'b-*',label = 'lasso')\n",
        "plt.xlabel('Lambda')\n",
        "plt.ylabel('F1 score')\n",
        "plt.xscale('log')\n",
        "plt.legend()\n",
        "plt.grid()\n",
        "plt.show()"
      ]
    },
    {
      "cell_type": "code",
      "execution_count": null,
      "metadata": {
        "id": "aMK3fPU9J405",
        "outputId": "100e4246-2fdb-424c-a669-14ae6ba7f32b"
      },
      "outputs": [
        {
          "data": {
            "text/plain": [
              "[0.0,\n",
              " 0.0,\n",
              " 0.9413971219931048,\n",
              " 0.9777284190488309,\n",
              " 0.9833267156376149,\n",
              " 0.9759593670898162,\n",
              " 0.9658797179827415]"
            ]
          },
          "execution_count": 76,
          "metadata": {},
          "output_type": "execute_result"
        }
      ],
      "source": [
        "lasso_l"
      ]
    },
    {
      "cell_type": "markdown",
      "metadata": {
        "id": "CSb5xTzTrY5f"
      },
      "source": [
        "***Discussão:***\n",
        "\n",
        "É importante observar que o parâmetro C é o inverso do parâmetro lambda, portanto, quanto menor o valor maior será o impacto da regularização. Percebe-se uma queda brusca no desempenho do modelo Lasso a partir de `C <= 0.001`, indicando que todas as variáveis foram filtradas, enquanto a penalização no Ridge acontece de maneira mais suavizada. Em todos os casos o Ridge tem um desempenho melhor do que o Lasso.\n",
        "\n",
        "Para este problema, para ambos os tipos de regularização, se quisermos melhor desempenho devemos escolher `C=1`. Se desejarmos um modelo mais simples de explicar, `C=0.01`."
      ]
    },
    {
      "cell_type": "markdown",
      "metadata": {
        "id": "BmJ9bSn2oi3E"
      },
      "source": [
        "\n",
        "b) A regressão lasso (l1) possui um comportamento similar à seleção retroativa, pois começa com todos os preditores e vai eliminando-os à medida que a regularização aumenta.\n",
        "\n",
        "Compare o modelo com k preditores que você escolheu no exercício 2.1(b), com o lasso com $\\lambda$ escolhido no exercício 2.2(a). \n",
        "\n",
        "Verifique e indique quais foram as variáveis removidas em cada modelo (no lasso, veja quais variáveis ficaram com coeficiente zero).\n",
        "\n",
        "Discutas as diferenças e similares nos resultados gerados pelos modelos em termos de desempenho e variáveis mantidas vs removidas.\n",
        "\n"
      ]
    },
    {
      "cell_type": "code",
      "execution_count": null,
      "metadata": {
        "id": "hLzvjxppJ407",
        "outputId": "9c1168aa-3262-4fec-a239-4b274adbfa92"
      },
      "outputs": [
        {
          "name": "stdout",
          "output_type": "stream",
          "text": [
            "Variaveis não excluidas: [ 7 20 22 27] => ['mean concave points' 'worst radius' 'worst perimeter'\n",
            " 'worst concave points']\n"
          ]
        }
      ],
      "source": [
        "# Checando coeficientes criados pelo algoritmo Lasso\n",
        "\n",
        "lasso = LogisticRegression(penalty='l1', C=0.01, max_iter=1000, solver='liblinear')\n",
        "lasso.fit(X,y)\n",
        "\n",
        "print(\"Variaveis não excluidas:\", np.where(lasso.coef_[0] != 0)[0], \"=>\", X.columns[[7, 20, 22, 27]].values)"
      ]
    },
    {
      "cell_type": "markdown",
      "metadata": {
        "id": "y5zPeVYirZXU"
      },
      "source": [
        "***Discussão:***\n",
        "\n",
        "Na seleção retroativa de variáveis vemos que é possível obter um desempenho adequado mesmo com poucas variáveis. De fato, quando `C=0.01` o lasso obtem uma performance média de 94.13% utilizando quatro variáveis com coeficientes diferente de zero: `['mean concave points', 'worst radius', 'worst perimeter', 'worst concave points']`, enquanto o algoritmo de seleção retroativa consegue um desempenho de 97.19% quando utiliza quatro variáveis, que são `['mean texture', 'mean perimeter', 'worst smoothness', 'worst concavity']`.\n",
        "\n",
        "Assim, se o objetivo for deixar poucas variáveis, nesta comparação o melhor seria usar a seleção retroativa.\n",
        "\n"
      ]
    },
    {
      "cell_type": "markdown",
      "metadata": {
        "id": "KKj0tkm282gs"
      },
      "source": [
        "### 2.3 Regressão Logística com Elastic Net (2 pontos)\n",
        "\n",
        "É possível colocar as penalidade L1 e L2 em um mesmo modelo. Neste caso, chamamos o modelo de ElasticNet. Na classe `LogisticRegression` do scikit ele pode ser ativado passando o atributo `penalty='elasticnet'`\n",
        "\n",
        "Note que agora temos 2 atributos relativos à regularização, o `C`, usado no item 2.2(a) e `l1_ratio`, que indica se a regularização é mais forte na penalidade `L1` (valores próximos de 1), ou da `L2` (valores mais próximos de 0).\n",
        "\n",
        "a) Execute o modelo da elasticnet com 5 diferentes combinações de valores `C` e `l1_ratio`, e imprima os erros `f1`, `accuracy`, `precision`, e `recall` usando validação cruzada.\n"
      ]
    },
    {
      "cell_type": "code",
      "execution_count": null,
      "metadata": {
        "id": "1K41vMpAvoiV",
        "outputId": "a2b44b2d-cfe0-4d95-fba5-b51c3df9dfc1"
      },
      "outputs": [
        {
          "data": {
            "image/png": "[encoded data removed]",
            "text/plain": [
              "<Figure size 1080x360 with 1 Axes>"
            ]
          },
          "metadata": {
            "needs_background": "light"
          },
          "output_type": "display_data"
        }
      ],
      "source": [
        "acc_cv = []\n",
        "prec_cv = []\n",
        "recall_cv = []\n",
        "f1_cv = []\n",
        "\n",
        "combinations = [(0.001, 0.5), (0.01, 0.5), (0.1, 0.5), (1, 0.5), (10, 0.5)]\n",
        "for (c, ratio) in combinations:\n",
        "    model = LogisticRegression(penalty='elasticnet', C=c, l1_ratio=ratio, max_iter=10000, solver='saga')\n",
        "\n",
        "    cv_results = cross_validate(model, X, y, cv=10, scoring=('accuracy','precision','recall','f1'))\n",
        "    acc_cv.append( np.mean(cv_results['test_accuracy']))\n",
        "    recall_cv.append( np.mean(cv_results['test_recall']))\n",
        "    prec_cv.append( np.mean(cv_results['test_precision']))\n",
        "    f1_cv.append( np.mean(cv_results['test_f1']))\n",
        "\n",
        "x_label = [f\"C={i[0]}, ratio={i[1]}\" for i in combinations]\n",
        "plt.figure(figsize=(15,5))\n",
        "plt.plot(x_label, acc_cv,\"b*-\", label='accuracy')\n",
        "plt.plot(x_label, prec_cv,\"g*-\", label='precision')\n",
        "plt.plot(x_label, recall_cv,\"y*-\", label='recall')\n",
        "plt.plot(x_label, f1_cv,\"r*-\", label='f1')\n",
        "plt.legend()\n",
        "plt.grid()\n",
        "plt.show()"
      ]
    },
    {
      "cell_type": "markdown",
      "metadata": {
        "id": "4Gmv9inluDn2"
      },
      "source": [
        "b) Avaliaremos agora o desempenho da elasticnet com diferentes valores para `C` e `l1_ratio`. \n",
        "\n",
        "Para tal, gere um único gráfico contendo os F-score no eixo Y e o valor de `C` no eixo X em escala log. O gráfico deverá conter 5 curvas, para valores de `l1_ratio` iguais a `[0, 0.25, 0.5, 0.75, 1.0]`.\n",
        "\n",
        "\n",
        "Em seguida, discuta os resultados, explicando quais valores vocês escolheria para os parâmetros e o motivo."
      ]
    },
    {
      "cell_type": "code",
      "execution_count": null,
      "metadata": {
        "id": "GLb_ELp3vpL-",
        "colab": {
          "base_uri": "https://localhost:8080/",
          "height": 320
        },
        "outputId": "ba801651-5300-4a74-feb3-5c1e3d599092"
      },
      "outputs": [
        {
          "output_type": "display_data",
          "data": {
            "text/plain": [
              "<Figure size 1080x360 with 1 Axes>"
            ],
            "image/png": "[encoded data removed]"
          },
          "metadata": {
            "needs_background": "light"
          }
        }
      ],
      "source": [
        "ratio = [0, 0.25, 0.5, 0.75, 1.0]\n",
        "f1_0 = []\n",
        "f1_1 = []\n",
        "f1_2 = []\n",
        "f1_3 = []\n",
        "f1_4 = []\n",
        "\n",
        "combinations = [0.001, 0.01, 0.1, 1, 10]\n",
        "for c in combinations:\n",
        "    model = LogisticRegression(penalty='elasticnet', C=c, l1_ratio=ratio[0], max_iter=10000, solver='saga')\n",
        "    cv_results = cross_validate(model, X, y, cv=10, scoring=('f1'))\n",
        "    f1_0.append( np.mean(cv_results['test_score']))\n",
        "    \n",
        "    model = LogisticRegression(penalty='elasticnet', C=c, l1_ratio=ratio[1], max_iter=10000, solver='saga')\n",
        "    cv_results = cross_validate(model, X, y, cv=10, scoring=('f1'))\n",
        "    f1_1.append( np.mean(cv_results['test_score']))\n",
        "    \n",
        "    model = LogisticRegression(penalty='elasticnet', C=c, l1_ratio=ratio[2], max_iter=10000, solver='saga')\n",
        "    cv_results = cross_validate(model, X, y, cv=10, scoring=('f1'))\n",
        "    f1_2.append( np.mean(cv_results['test_score']))\n",
        "    \n",
        "    model = LogisticRegression(penalty='elasticnet', C=c, l1_ratio=ratio[3], max_iter=10000, solver='saga')\n",
        "    cv_results = cross_validate(model, X, y, cv=10, scoring=('f1'))\n",
        "    f1_3.append( np.mean(cv_results['test_score']))\n",
        "    \n",
        "    model = LogisticRegression(penalty='elasticnet', C=c, l1_ratio=ratio[4], max_iter=10000, solver='saga')\n",
        "    cv_results = cross_validate(model, X, y, cv=10, scoring=('f1'))\n",
        "    f1_4.append( np.mean(cv_results['test_score']))\n",
        "\n",
        "x_label = [f\"C={i}\" for i in combinations]\n",
        "plt.figure(figsize=(15,5))\n",
        "plt.plot(x_label, f1_0,\"g*-\", label='ratio = 0')\n",
        "plt.plot(x_label, f1_1,\"y*-\", label='ratio = 0.25')\n",
        "plt.plot(x_label, f1_2,\"b*-\", label='ratio = 0.5')\n",
        "plt.plot(x_label, f1_3,\"r*-\", label='ratio = 0.75')\n",
        "plt.plot(x_label, f1_4,\"m*-\", label='ratio = 1')\n",
        "plt.legend()\n",
        "plt.grid()\n",
        "plt.show()"
      ]
    },
    {
      "cell_type": "markdown",
      "metadata": {
        "id": "ZE_VBuJcwRru"
      },
      "source": [
        "***Discussão:*** Vemos aqui que o melhor resultado ocorreu com o fator de regularização C=1. O ratio influi muito pouco no resultado, com o erro ficando levemente menor para um ratio de 0.25. Mas na prática, qualquer ratio funcionaria bem aqui. \n",
        "\n",
        "Com regularizações mais fortes, o desempenho com ratio maior (maior ênfase na L1), ficou pior, indicando que a regularização L2 funciona melhor, o que é compatível com o que vimos no exercício 2.2."
      ]
    }
  ],
  "metadata": {
    "colab": {
      "name": "Atividade_5_CV_e_Regularizacao_Resolvido.ipynb",
      "provenance": []
    },
    "kernelspec": {
      "display_name": "Python 3",
      "language": "python",
      "name": "python3"
    },
    "language_info": {
      "codemirror_mode": {
        "name": "ipython",
        "version": 3
      },
      "file_extension": ".py",
      "mimetype": "text/x-python",
      "name": "python",
      "nbconvert_exporter": "python",
      "pygments_lexer": "ipython3",
      "version": "3.8.10"
    }
  },
  "nbformat": 4,
  "nbformat_minor": 0
}